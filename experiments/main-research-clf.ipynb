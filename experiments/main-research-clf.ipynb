{
 "cells": [
  {
   "cell_type": "markdown",
   "metadata": {
    "id": "HzI7EfYwtEUT"
   },
   "source": [
    "# Sequence classification improving via GAN"
   ]
  },
  {
   "cell_type": "code",
   "execution_count": 1,
   "metadata": {},
   "outputs": [
    {
     "data": {
      "application/javascript": [
       "\n",
       "            setTimeout(function() {\n",
       "                var nbb_cell_id = 1;\n",
       "                var nbb_unformatted_code = \"%load_ext nb_black\\n%load_ext autoreload\\n%autoreload 2\";\n",
       "                var nbb_formatted_code = \"%load_ext nb_black\\n%load_ext autoreload\\n%autoreload 2\";\n",
       "                var nbb_cells = Jupyter.notebook.get_cells();\n",
       "                for (var i = 0; i < nbb_cells.length; ++i) {\n",
       "                    if (nbb_cells[i].input_prompt_number == nbb_cell_id) {\n",
       "                        if (nbb_cells[i].get_text() == nbb_unformatted_code) {\n",
       "                             nbb_cells[i].set_text(nbb_formatted_code);\n",
       "                        }\n",
       "                        break;\n",
       "                    }\n",
       "                }\n",
       "            }, 500);\n",
       "            "
      ],
      "text/plain": [
       "<IPython.core.display.Javascript object>"
      ]
     },
     "metadata": {},
     "output_type": "display_data"
    }
   ],
   "source": [
    "%load_ext nb_black\n",
    "%load_ext autoreload\n",
    "%autoreload 2"
   ]
  },
  {
   "cell_type": "code",
   "execution_count": 3,
   "metadata": {},
   "outputs": [
    {
     "name": "stdout",
     "output_type": "stream",
     "text": [
      "/home/valperovich/projects/other/std/gan-plus-nlp-main\n"
     ]
    },
    {
     "data": {
      "application/javascript": [
       "\n",
       "            setTimeout(function() {\n",
       "                var nbb_cell_id = 3;\n",
       "                var nbb_unformatted_code = \"%cd gan-plus-nlp-main/\";\n",
       "                var nbb_formatted_code = \"%cd gan-plus-nlp-main/\";\n",
       "                var nbb_cells = Jupyter.notebook.get_cells();\n",
       "                for (var i = 0; i < nbb_cells.length; ++i) {\n",
       "                    if (nbb_cells[i].input_prompt_number == nbb_cell_id) {\n",
       "                        if (nbb_cells[i].get_text() == nbb_unformatted_code) {\n",
       "                             nbb_cells[i].set_text(nbb_formatted_code);\n",
       "                        }\n",
       "                        break;\n",
       "                    }\n",
       "                }\n",
       "            }, 500);\n",
       "            "
      ],
      "text/plain": [
       "<IPython.core.display.Javascript object>"
      ]
     },
     "metadata": {},
     "output_type": "display_data"
    }
   ],
   "source": [
    "%cd gan-plus-nlp-main/"
   ]
  },
  {
   "cell_type": "code",
   "execution_count": 4,
   "metadata": {
    "colab": {
     "base_uri": "https://localhost:8080/"
    },
    "executionInfo": {
     "elapsed": 4845,
     "status": "ok",
     "timestamp": 1684973283555,
     "user": {
      "displayName": "Вадим Альперович",
      "userId": "02416847696576149422"
     },
     "user_tz": -180
    },
    "id": "2PZu5XPX_990",
    "outputId": "ecbfca7c-ee9c-42cb-9234-fa1d70bc2373"
   },
   "outputs": [
    {
     "data": {
      "application/javascript": [
       "\n",
       "            setTimeout(function() {\n",
       "                var nbb_cell_id = 4;\n",
       "                var nbb_unformatted_code = \"import os\\nimport gc\\nimport sys\\nimport json\\nimport numpy as np\\nimport pandas as pd\\nimport importlib as imp\\nimport neptune as neptune\\nfrom tqdm import tqdm, tqdm_notebook\\nfrom sklearn.model_selection import train_test_split\\nfrom sklearn.metrics import classification_report, f1_score\\n\\nimport torch\\nimport torch.nn.functional as F\\n\\nfrom typing import List, Dict\\n\\nimport warnings\\n\\nwarnings.simplefilter(\\\"ignore\\\")\\nsys.path.append(\\\"..\\\")\\nsecret = json.load(open(\\\"secret.json\\\"))\";\n",
       "                var nbb_formatted_code = \"import os\\nimport gc\\nimport sys\\nimport json\\nimport numpy as np\\nimport pandas as pd\\nimport importlib as imp\\nimport neptune as neptune\\nfrom tqdm import tqdm, tqdm_notebook\\nfrom sklearn.model_selection import train_test_split\\nfrom sklearn.metrics import classification_report, f1_score\\n\\nimport torch\\nimport torch.nn.functional as F\\n\\nfrom typing import List, Dict\\n\\nimport warnings\\n\\nwarnings.simplefilter(\\\"ignore\\\")\\nsys.path.append(\\\"..\\\")\\nsecret = json.load(open(\\\"secret.json\\\"))\";\n",
       "                var nbb_cells = Jupyter.notebook.get_cells();\n",
       "                for (var i = 0; i < nbb_cells.length; ++i) {\n",
       "                    if (nbb_cells[i].input_prompt_number == nbb_cell_id) {\n",
       "                        if (nbb_cells[i].get_text() == nbb_unformatted_code) {\n",
       "                             nbb_cells[i].set_text(nbb_formatted_code);\n",
       "                        }\n",
       "                        break;\n",
       "                    }\n",
       "                }\n",
       "            }, 500);\n",
       "            "
      ],
      "text/plain": [
       "<IPython.core.display.Javascript object>"
      ]
     },
     "metadata": {},
     "output_type": "display_data"
    }
   ],
   "source": [
    "import os\n",
    "import gc\n",
    "import sys\n",
    "import json\n",
    "import numpy as np\n",
    "import pandas as pd\n",
    "import importlib as imp\n",
    "import neptune as neptune\n",
    "from tqdm import tqdm, tqdm_notebook\n",
    "from sklearn.model_selection import train_test_split\n",
    "from sklearn.metrics import classification_report, f1_score\n",
    "\n",
    "import torch\n",
    "import torch.nn.functional as F\n",
    "\n",
    "from typing import List, Dict\n",
    "\n",
    "import warnings\n",
    "\n",
    "warnings.simplefilter(\"ignore\")\n",
    "sys.path.append(\"..\")\n",
    "secret = json.load(open(\"secret.json\"))"
   ]
  },
  {
   "cell_type": "markdown",
   "metadata": {
    "id": "aEqQ6naPBOoD"
   },
   "source": [
    "# Data Loading"
   ]
  },
  {
   "cell_type": "code",
   "execution_count": 53,
   "metadata": {
    "colab": {
     "base_uri": "https://localhost:8080/",
     "height": 359,
     "referenced_widgets": [
      "459877f382bc48b2bad0a7370d829f7a",
      "057d82523229462a95e9b1109cf97320",
      "b1b775aca21c4a29a53f8a0e881baa42",
      "cc553cbe4bae4351810fc83969623e4d",
      "b9ca308fe0af4bde957f4ad172c11b6e",
      "b479ea7fa4554fda8a7c8fa83d29a8c6",
      "1b1f8bcfd90c468aa6c7b5b6648099f4",
      "75f0820c8d0e49ce9b3923fcfcfc223c",
      "eb3f0ef248e84f8eaea144e42451b18e",
      "3477a42e3d6a4e888e4cbcc7716558a0",
      "10402fb9367a4a2ea9c958c8ad606f98",
      "c010e31940bc49d5bee6233b5415bdf0",
      "b9089749338a4a029067a203a1f4402f",
      "794891480351482e8579c3cf4346926f",
      "2c3b09ab9e264cc693836925621e2753",
      "2f8583b0a7094651aed3826bba3471c0",
      "e7b628fbef6442e6a64520fdaeb5643b",
      "786df9a300b146cebff200e5007a7dac",
      "e8b2dd5e08314fb18d17435ef1560f17",
      "790bb2452a634af1aa52742136e848de",
      "38b302dbb4b443a58f188db1dc85a02d",
      "6534c556bd684ec0a1f3ac196e09be19",
      "eefc3485e2964137a2c0c3df8486ebad",
      "f4547338886d4d1d86996e31c98aea3c",
      "b7695f86b06a46e99ba3eb540703f0e5",
      "532fdbd2d1d841e3ba5d849331faef9e",
      "a56281d3b8494241841e03549df86c92",
      "6118222b09184d76b635f47ee801d6f6",
      "cef72993a2ce474f85fc96106d788bd4",
      "389d992da85b44feb7108b4f234b2f47",
      "ad943cc7de094f38ad16ebfa6686c806",
      "0b9f4b9915cd4ff6b850d56dae0000c1",
      "eac62f350b50488e80ed9a48f743eb6a",
      "d85b0a23e1ef486d9457789922e07143",
      "38dcab5bd8dd4291913bf4fbcbc1a9c3",
      "092b0c87ac1e4e64a0ec45a39729f6bf",
      "40b2f334bc9947129a9c50d324183ed4",
      "1dfdb6231e1b4defb97d88a379cb66a3",
      "6a5c7d6560404b428bc1649c9b7d9ebd",
      "18ccab928f6a4310aa06657e3b7a6515",
      "146817e96572498d9a883789bf979afb",
      "b2264834500446f18394a7c02d1f1cb3",
      "b0f9ba88d2a1483ebf629a1f5fe4fd76",
      "f685062de502480c95bcb11f4340e451",
      "0f73c181278d477fb801a3f4622633ea",
      "5fde347dd2fe478ab07585a2c52e166b",
      "940d43d79b584ac6bfd46a935c6d794e",
      "da3619540a1b4019876f2a59bea152a0",
      "ef628dce8b044768917cd0e27a1e9b14",
      "2166fd74a3174eda9318d43844afa22a",
      "e6074fc93d264308a344b772b2ddc8c2",
      "683baeda291040e985becf0cdf92cbfe",
      "dc6d42f90cc34fac9fac44519d092882",
      "49835814b2484d319ff1a1a1fb9f5a75",
      "9235fbef5bcd471a9906f7c8370a6618"
     ]
    },
    "executionInfo": {
     "elapsed": 2747,
     "status": "ok",
     "timestamp": 1684975901678,
     "user": {
      "displayName": "Вадим Альперович",
      "userId": "02416847696576149422"
     },
     "user_tz": -180
    },
    "id": "8wbs17WRdxc1",
    "outputId": "b1f9a34b-818b-4c71-a33a-5c7d61bc8e26",
    "scrolled": false
   },
   "outputs": [
    {
     "name": "stderr",
     "output_type": "stream",
     "text": [
      "Found cached dataset 20ng (/home/valperovich/.cache/huggingface/datasets/vmalperovich___20ng/default/0.0.0/cb7b2bd44b9005a66152af78ef5bb91ca7d7babd62072d71848b705559ce64ac)\n"
     ]
    },
    {
     "data": {
      "application/vnd.jupyter.widget-view+json": {
       "model_id": "07bb60d0df9c48b1b12d5ca608cedab5",
       "version_major": 2,
       "version_minor": 0
      },
      "text/plain": [
       "  0%|          | 0/3 [00:00<?, ?it/s]"
      ]
     },
     "metadata": {},
     "output_type": "display_data"
    },
    {
     "data": {
      "text/plain": [
       "DatasetDict({\n",
       "    train: Dataset({\n",
       "        features: ['text', 'labels'],\n",
       "        num_rows: 9051\n",
       "    })\n",
       "    test: Dataset({\n",
       "        features: ['text', 'labels'],\n",
       "        num_rows: 7532\n",
       "    })\n",
       "    validation: Dataset({\n",
       "        features: ['text', 'labels'],\n",
       "        num_rows: 2263\n",
       "    })\n",
       "})"
      ]
     },
     "execution_count": 53,
     "metadata": {},
     "output_type": "execute_result"
    },
    {
     "data": {
      "application/javascript": [
       "\n",
       "            setTimeout(function() {\n",
       "                var nbb_cell_id = 53;\n",
       "                var nbb_unformatted_code = \"from datasets import load_dataset\\n\\ndataset_name = \\\"vmalperovich/20ng\\\"  # imdb, ag_news vmalperovich/QC vmalperovich/SST5 vmalperovich/20ng\\ndataset = load_dataset(dataset_name, ignore_verifications=True)\\ndataset = dataset.rename_column('label', 'labels')\\ndataset\";\n",
       "                var nbb_formatted_code = \"from datasets import load_dataset\\n\\ndataset_name = \\\"vmalperovich/20ng\\\"  # imdb, ag_news vmalperovich/QC vmalperovich/SST5 vmalperovich/20ng\\ndataset = load_dataset(dataset_name, ignore_verifications=True)\\ndataset = dataset.rename_column(\\\"label\\\", \\\"labels\\\")\\ndataset\";\n",
       "                var nbb_cells = Jupyter.notebook.get_cells();\n",
       "                for (var i = 0; i < nbb_cells.length; ++i) {\n",
       "                    if (nbb_cells[i].input_prompt_number == nbb_cell_id) {\n",
       "                        if (nbb_cells[i].get_text() == nbb_unformatted_code) {\n",
       "                             nbb_cells[i].set_text(nbb_formatted_code);\n",
       "                        }\n",
       "                        break;\n",
       "                    }\n",
       "                }\n",
       "            }, 500);\n",
       "            "
      ],
      "text/plain": [
       "<IPython.core.display.Javascript object>"
      ]
     },
     "metadata": {},
     "output_type": "display_data"
    }
   ],
   "source": [
    "from datasets import load_dataset\n",
    "\n",
    "dataset_name = \"vmalperovich/20ng\"  # ag_news vmalperovich/QC vmalperovich/SST5 vmalperovich/20ng\n",
    "dataset = load_dataset(dataset_name, ignore_verifications=True)\n",
    "dataset = dataset.rename_column(\"label\", \"labels\")\n",
    "dataset"
   ]
  },
  {
   "cell_type": "code",
   "execution_count": 54,
   "metadata": {
    "colab": {
     "base_uri": "https://localhost:8080/"
    },
    "executionInfo": {
     "elapsed": 271,
     "status": "ok",
     "timestamp": 1684975953952,
     "user": {
      "displayName": "Вадим Альперович",
      "userId": "02416847696576149422"
     },
     "user_tz": -180
    },
    "id": "tiFM-SOGO0aH",
    "outputId": "d8c7de82-29a9-48d2-a20d-d2a19d59afda"
   },
   "outputs": [
    {
     "data": {
      "application/javascript": [
       "\n",
       "            setTimeout(function() {\n",
       "                var nbb_cell_id = 54;\n",
       "                var nbb_unformatted_code = \"# _indexes = np.random.permutation(len(dataset['train']))\\n# train_size = int(len(dataset['train']) * 0.65)\\n# # train_indexes = _indexes[:train_size]\\n# valid_indexes = _indexes[train_size:]\\n# dataset['validation'] = dataset['train'].select(valid_indexes)\\n\\n# # if len(dataset['test']) > 10_000:\\n# #     _indexes = np.random.permutation(len(dataset['test']))\\n# #     dataset['test'] = dataset['test'].select(_indexes[:10_000])\\n# dataset\";\n",
       "                var nbb_formatted_code = \"# _indexes = np.random.permutation(len(dataset['train']))\\n# train_size = int(len(dataset['train']) * 0.65)\\n# # train_indexes = _indexes[:train_size]\\n# valid_indexes = _indexes[train_size:]\\n# dataset['validation'] = dataset['train'].select(valid_indexes)\\n\\n# # if len(dataset['test']) > 10_000:\\n# #     _indexes = np.random.permutation(len(dataset['test']))\\n# #     dataset['test'] = dataset['test'].select(_indexes[:10_000])\\n# dataset\";\n",
       "                var nbb_cells = Jupyter.notebook.get_cells();\n",
       "                for (var i = 0; i < nbb_cells.length; ++i) {\n",
       "                    if (nbb_cells[i].input_prompt_number == nbb_cell_id) {\n",
       "                        if (nbb_cells[i].get_text() == nbb_unformatted_code) {\n",
       "                             nbb_cells[i].set_text(nbb_formatted_code);\n",
       "                        }\n",
       "                        break;\n",
       "                    }\n",
       "                }\n",
       "            }, 500);\n",
       "            "
      ],
      "text/plain": [
       "<IPython.core.display.Javascript object>"
      ]
     },
     "metadata": {},
     "output_type": "display_data"
    }
   ],
   "source": [
    "# _indexes = np.random.permutation(len(dataset['train']))\n",
    "# train_size = int(len(dataset['train']) * 0.65)\n",
    "# # train_indexes = _indexes[:train_size]\n",
    "# valid_indexes = _indexes[train_size:]\n",
    "# dataset['validation'] = dataset['train'].select(valid_indexes)\n",
    "\n",
    "# # if len(dataset['test']) > 10_000:\n",
    "# #     _indexes = np.random.permutation(len(dataset['test']))\n",
    "# #     dataset['test'] = dataset['test'].select(_indexes[:10_000])\n",
    "# dataset"
   ]
  },
  {
   "cell_type": "code",
   "execution_count": 56,
   "metadata": {
    "colab": {
     "base_uri": "https://localhost:8080/"
    },
    "executionInfo": {
     "elapsed": 4,
     "status": "ok",
     "timestamp": 1684975976261,
     "user": {
      "displayName": "Вадим Альперович",
      "userId": "02416847696576149422"
     },
     "user_tz": -180
    },
    "id": "DugQKgqjBfoy",
    "outputId": "4d7dbead-8131-4a76-bf63-7f7820c45f46"
   },
   "outputs": [
    {
     "data": {
      "text/plain": [
       "(['comp.sys.mac.hardware',\n",
       "  'comp.graphics',\n",
       "  'sci.space',\n",
       "  'talk.politics.guns',\n",
       "  'sci.med',\n",
       "  'comp.sys.ibm.pc.hardware',\n",
       "  'comp.os.ms-windows.misc',\n",
       "  'rec.motorcycles',\n",
       "  'misc.forsale',\n",
       "  'alt.atheism',\n",
       "  'rec.autos',\n",
       "  'sci.electronics',\n",
       "  'comp.windows.x',\n",
       "  'rec.sport.hockey',\n",
       "  'rec.sport.baseball',\n",
       "  'talk.politics.mideast',\n",
       "  'sci.crypt',\n",
       "  'soc.religion.christian',\n",
       "  'talk.politics.misc',\n",
       "  'talk.religion.misc'],\n",
       " 20)"
      ]
     },
     "execution_count": 56,
     "metadata": {},
     "output_type": "execute_result"
    },
    {
     "data": {
      "application/javascript": [
       "\n",
       "            setTimeout(function() {\n",
       "                var nbb_cell_id = 56;\n",
       "                var nbb_unformatted_code = \"LABEL_NAMES = dataset[\\\"train\\\"].features[\\\"labels\\\"].names\\nget_ids2label = lambda ids: [LABEL_NAMES[t] for t in ids]\\nNUM_LABELS = dataset[\\\"train\\\"].features[\\\"labels\\\"].num_classes\\nLABEL_NAMES, NUM_LABELS\";\n",
       "                var nbb_formatted_code = \"LABEL_NAMES = dataset[\\\"train\\\"].features[\\\"labels\\\"].names\\nget_ids2label = lambda ids: [LABEL_NAMES[t] for t in ids]\\nNUM_LABELS = dataset[\\\"train\\\"].features[\\\"labels\\\"].num_classes\\nLABEL_NAMES, NUM_LABELS\";\n",
       "                var nbb_cells = Jupyter.notebook.get_cells();\n",
       "                for (var i = 0; i < nbb_cells.length; ++i) {\n",
       "                    if (nbb_cells[i].input_prompt_number == nbb_cell_id) {\n",
       "                        if (nbb_cells[i].get_text() == nbb_unformatted_code) {\n",
       "                             nbb_cells[i].set_text(nbb_formatted_code);\n",
       "                        }\n",
       "                        break;\n",
       "                    }\n",
       "                }\n",
       "            }, 500);\n",
       "            "
      ],
      "text/plain": [
       "<IPython.core.display.Javascript object>"
      ]
     },
     "metadata": {},
     "output_type": "display_data"
    }
   ],
   "source": [
    "LABEL_NAMES = dataset[\"train\"].features[\"labels\"].names\n",
    "get_ids2label = lambda ids: [LABEL_NAMES[t] for t in ids]\n",
    "NUM_LABELS = dataset[\"train\"].features[\"labels\"].num_classes\n",
    "LABEL_NAMES, NUM_LABELS"
   ]
  },
  {
   "cell_type": "code",
   "execution_count": 10,
   "metadata": {
    "colab": {
     "base_uri": "https://localhost:8080/"
    },
    "executionInfo": {
     "elapsed": 5,
     "status": "ok",
     "timestamp": 1684973467690,
     "user": {
      "displayName": "Вадим Альперович",
      "userId": "02416847696576149422"
     },
     "user_tz": -180
    },
    "id": "u2_l3kM16-JC",
    "outputId": "0d7eb9b1-22d8-4bac-a1e5-0778e3f595da"
   },
   "outputs": [
    {
     "data": {
      "text/plain": [
       "count     9051.000000\n",
       "mean       289.114462\n",
       "std        558.313261\n",
       "min         14.000000\n",
       "50%        176.000000\n",
       "70%        260.000000\n",
       "90%        507.000000\n",
       "95%        772.000000\n",
       "max      11821.000000\n",
       "Name: text, dtype: float64"
      ]
     },
     "execution_count": 10,
     "metadata": {},
     "output_type": "execute_result"
    }
   ],
   "source": [
    "dataset_df[\"text\"].str.split().apply(len).describe(percentiles=[0.5, 0.7, 0.9, 0.95])"
   ]
  },
  {
   "cell_type": "markdown",
   "metadata": {
    "id": "TZDhXt48MsR1"
   },
   "source": [
    "## Experiment"
   ]
  },
  {
   "cell_type": "code",
   "execution_count": 58,
   "metadata": {
    "colab": {
     "background_save": true,
     "base_uri": "https://localhost:8080/"
    },
    "executionInfo": {
     "elapsed": 2,
     "status": "ok",
     "timestamp": 1684973492508,
     "user": {
      "displayName": "Вадим Альперович",
      "userId": "02416847696576149422"
     },
     "user_tz": -180
    },
    "id": "ZmTlIql_OUbV",
    "outputId": "181878fc-801d-4ba2-b24d-c4243bb49fbf"
   },
   "outputs": [
    {
     "name": "stdout",
     "output_type": "stream",
     "text": [
      "There are 1 GPU(s) available.\n",
      "We will use the GPU: NVIDIA GeForce RTX 2080 Ti\n",
      "0\n"
     ]
    },
    {
     "data": {
      "application/javascript": [
       "\n",
       "            setTimeout(function() {\n",
       "                var nbb_cell_id = 58;\n",
       "                var nbb_unformatted_code = \"import torch\\nimport torch.nn.functional as F\\n\\nos.environ['CUDA_VISIBLE_DEVICES'] = \\\"7\\\"\\n\\nif torch.cuda.is_available():\\n    device = torch.device(\\\"cuda\\\")\\n    print(\\\"There are %d GPU(s) available.\\\" % torch.cuda.device_count())\\n    print(\\\"We will use the GPU:\\\", torch.cuda.get_device_name())\\nelse:\\n    print(\\\"No GPU available, using the CPU instead.\\\")\\n    device = torch.device(\\\"cpu\\\")\\nprint(torch.cuda.memory_allocated())\";\n",
       "                var nbb_formatted_code = \"import torch\\nimport torch.nn.functional as F\\n\\nos.environ[\\\"CUDA_VISIBLE_DEVICES\\\"] = \\\"7\\\"\\n\\nif torch.cuda.is_available():\\n    device = torch.device(\\\"cuda\\\")\\n    print(\\\"There are %d GPU(s) available.\\\" % torch.cuda.device_count())\\n    print(\\\"We will use the GPU:\\\", torch.cuda.get_device_name())\\nelse:\\n    print(\\\"No GPU available, using the CPU instead.\\\")\\n    device = torch.device(\\\"cpu\\\")\\nprint(torch.cuda.memory_allocated())\";\n",
       "                var nbb_cells = Jupyter.notebook.get_cells();\n",
       "                for (var i = 0; i < nbb_cells.length; ++i) {\n",
       "                    if (nbb_cells[i].input_prompt_number == nbb_cell_id) {\n",
       "                        if (nbb_cells[i].get_text() == nbb_unformatted_code) {\n",
       "                             nbb_cells[i].set_text(nbb_formatted_code);\n",
       "                        }\n",
       "                        break;\n",
       "                    }\n",
       "                }\n",
       "            }, 500);\n",
       "            "
      ],
      "text/plain": [
       "<IPython.core.display.Javascript object>"
      ]
     },
     "metadata": {},
     "output_type": "display_data"
    }
   ],
   "source": [
    "import torch\n",
    "import torch.nn.functional as F\n",
    "\n",
    "os.environ[\"CUDA_VISIBLE_DEVICES\"] = \"7\"\n",
    "\n",
    "if torch.cuda.is_available():\n",
    "    device = torch.device(\"cuda\")\n",
    "    print(\"There are %d GPU(s) available.\" % torch.cuda.device_count())\n",
    "    print(\"We will use the GPU:\", torch.cuda.get_device_name())\n",
    "else:\n",
    "    print(\"No GPU available, using the CPU instead.\")\n",
    "    device = torch.device(\"cpu\")\n",
    "print(torch.cuda.memory_allocated())"
   ]
  },
  {
   "cell_type": "code",
   "execution_count": 5,
   "metadata": {
    "id": "j8SmdZGcMoop"
   },
   "outputs": [
    {
     "data": {
      "application/javascript": [
       "\n",
       "            setTimeout(function() {\n",
       "                var nbb_cell_id = 5;\n",
       "                var nbb_unformatted_code = \"# model_name = \\\"bert-base-cased\\\"\\n# model_name = \\\"distilbert-base-uncased\\\"\\nmodel_name = \\\"bert-base-uncased\\\"\\n# model_name = \\\"google/electra-base-discriminator\\\"\";\n",
       "                var nbb_formatted_code = \"# model_name = \\\"bert-base-cased\\\"\\n# model_name = \\\"distilbert-base-uncased\\\"\\nmodel_name = \\\"bert-base-uncased\\\"\\n# model_name = \\\"google/electra-base-discriminator\\\"\";\n",
       "                var nbb_cells = Jupyter.notebook.get_cells();\n",
       "                for (var i = 0; i < nbb_cells.length; ++i) {\n",
       "                    if (nbb_cells[i].input_prompt_number == nbb_cell_id) {\n",
       "                        if (nbb_cells[i].get_text() == nbb_unformatted_code) {\n",
       "                             nbb_cells[i].set_text(nbb_formatted_code);\n",
       "                        }\n",
       "                        break;\n",
       "                    }\n",
       "                }\n",
       "            }, 500);\n",
       "            "
      ],
      "text/plain": [
       "<IPython.core.display.Javascript object>"
      ]
     },
     "metadata": {},
     "output_type": "display_data"
    }
   ],
   "source": [
    "# model_name = \"bert-base-cased\"\n",
    "# model_name = \"distilbert-base-uncased\"\n",
    "model_name = \"bert-base-uncased\"\n",
    "# model_name = \"google/electra-base-discriminator\""
   ]
  },
  {
   "cell_type": "code",
   "execution_count": 7,
   "metadata": {
    "colab": {
     "base_uri": "https://localhost:8080/"
    },
    "executionInfo": {
     "elapsed": 1215,
     "status": "ok",
     "timestamp": 1684973494342,
     "user": {
      "displayName": "Вадим Альперович",
      "userId": "02416847696576149422"
     },
     "user_tz": -180
    },
    "id": "gCGYLnyhOUbW",
    "outputId": "0bf798e2-4ec1-4519-872e-471cd048ad62"
   },
   "outputs": [
    {
     "name": "stdout",
     "output_type": "stream",
     "text": [
      "pass\n"
     ]
    },
    {
     "data": {
      "application/javascript": [
       "\n",
       "            setTimeout(function() {\n",
       "                var nbb_cell_id = 7;\n",
       "                var nbb_unformatted_code = \"import sys\\n\\ntry:\\n    del sys.modules[\\\"base\\\"]\\n    del sys.modules[\\\"model\\\"]\\n    del sys.modules[\\\"model.discriminator\\\"]\\n    del sys.modules[\\\"model.generator\\\"]\\n    del sys.modules[\\\"model.utils\\\"]\\n    del sys.modules[\\\"trainer\\\"]\\nexcept:\\n    print(\\\"pass\\\")\\n\\ngc.collect()\\ntorch.cuda.empty_cache()\\n\\nimport model\\n\\nmodel = imp.reload(model)\";\n",
       "                var nbb_formatted_code = \"import sys\\n\\ntry:\\n    del sys.modules[\\\"base\\\"]\\n    del sys.modules[\\\"model\\\"]\\n    del sys.modules[\\\"model.discriminator\\\"]\\n    del sys.modules[\\\"model.generator\\\"]\\n    del sys.modules[\\\"model.utils\\\"]\\n    del sys.modules[\\\"trainer\\\"]\\nexcept:\\n    print(\\\"pass\\\")\\n\\ngc.collect()\\ntorch.cuda.empty_cache()\\n\\nimport model\\n\\nmodel = imp.reload(model)\";\n",
       "                var nbb_cells = Jupyter.notebook.get_cells();\n",
       "                for (var i = 0; i < nbb_cells.length; ++i) {\n",
       "                    if (nbb_cells[i].input_prompt_number == nbb_cell_id) {\n",
       "                        if (nbb_cells[i].get_text() == nbb_unformatted_code) {\n",
       "                             nbb_cells[i].set_text(nbb_formatted_code);\n",
       "                        }\n",
       "                        break;\n",
       "                    }\n",
       "                }\n",
       "            }, 500);\n",
       "            "
      ],
      "text/plain": [
       "<IPython.core.display.Javascript object>"
      ]
     },
     "metadata": {},
     "output_type": "display_data"
    }
   ],
   "source": [
    "import sys\n",
    "\n",
    "try:\n",
    "    del sys.modules[\"base\"]\n",
    "    del sys.modules[\"model\"]\n",
    "    del sys.modules[\"model.discriminator\"]\n",
    "    del sys.modules[\"model.generator\"]\n",
    "    del sys.modules[\"model.utils\"]\n",
    "    del sys.modules[\"trainer\"]\n",
    "except:\n",
    "    print(\"pass\")\n",
    "\n",
    "gc.collect()\n",
    "torch.cuda.empty_cache()\n",
    "\n",
    "import model\n",
    "\n",
    "model = imp.reload(model)"
   ]
  },
  {
   "cell_type": "code",
   "execution_count": 60,
   "metadata": {
    "executionInfo": {
     "elapsed": 4,
     "status": "ok",
     "timestamp": 1684976121220,
     "user": {
      "displayName": "Вадим Альперович",
      "userId": "02416847696576149422"
     },
     "user_tz": -180
    },
    "id": "vLJuR2WkOqin"
   },
   "outputs": [
    {
     "data": {
      "application/javascript": [
       "\n",
       "            setTimeout(function() {\n",
       "                var nbb_cell_id = 60;\n",
       "                var nbb_unformatted_code = \"CONFIG = dict(\\n    TASK='classification',\\n    encoder_name=model_name,\\n    frozen_backbone=False,\\n    batch_size=32,\\n    max_seq_length=172,\\n    noise_size=100,\\n    dataset_train_size=len(dataset[\\\"train\\\"]),\\n    dataset_valid_size=len(dataset[\\\"validation\\\"]),\\n    dataset_test_size=len(dataset[\\\"test\\\"]),\\n    num_labels=NUM_LABELS,\\n    label_names=LABEL_NAMES,\\n    lr_discriminator=5e-5,\\n    lr_generator=5e-5,\\n    epsilon=1e-8,\\n    num_train_epochs=5,\\n    multi_gpu=False,\\n    dropout_rate=0.2,\\n    apply_scheduler=True,\\n    warmup_proportion_d=0.1,\\n    warmup_proportion_g=0.0,\\n    fake_label_index=-1,\\n    dataset=dataset_name,\\n    save_path=\\\"../weights/best_model.pth\\\",\\n\\n)\";\n",
       "                var nbb_formatted_code = \"CONFIG = dict(\\n    TASK=\\\"classification\\\",\\n    encoder_name=model_name,\\n    frozen_backbone=False,\\n    batch_size=32,\\n    max_seq_length=172,\\n    noise_size=100,\\n    dataset_train_size=len(dataset[\\\"train\\\"]),\\n    dataset_valid_size=len(dataset[\\\"validation\\\"]),\\n    dataset_test_size=len(dataset[\\\"test\\\"]),\\n    num_labels=NUM_LABELS,\\n    label_names=LABEL_NAMES,\\n    lr_discriminator=5e-5,\\n    lr_generator=5e-5,\\n    epsilon=1e-8,\\n    num_train_epochs=5,\\n    multi_gpu=False,\\n    dropout_rate=0.2,\\n    apply_scheduler=True,\\n    warmup_proportion_d=0.1,\\n    warmup_proportion_g=0.0,\\n    fake_label_index=-1,\\n    dataset=dataset_name,\\n    save_path=\\\"../weights/best_model.pth\\\",\\n)\";\n",
       "                var nbb_cells = Jupyter.notebook.get_cells();\n",
       "                for (var i = 0; i < nbb_cells.length; ++i) {\n",
       "                    if (nbb_cells[i].input_prompt_number == nbb_cell_id) {\n",
       "                        if (nbb_cells[i].get_text() == nbb_unformatted_code) {\n",
       "                             nbb_cells[i].set_text(nbb_formatted_code);\n",
       "                        }\n",
       "                        break;\n",
       "                    }\n",
       "                }\n",
       "            }, 500);\n",
       "            "
      ],
      "text/plain": [
       "<IPython.core.display.Javascript object>"
      ]
     },
     "metadata": {},
     "output_type": "display_data"
    }
   ],
   "source": [
    "CONFIG = dict(\n",
    "    TASK=\"classification\",\n",
    "    encoder_name=model_name,\n",
    "    frozen_backbone=False,\n",
    "    batch_size=32,\n",
    "    max_seq_length=172,\n",
    "    noise_size=100,\n",
    "    dataset_train_size=len(dataset[\"train\"]),\n",
    "    dataset_valid_size=len(dataset[\"validation\"]),\n",
    "    dataset_test_size=len(dataset[\"test\"]),\n",
    "    num_labels=NUM_LABELS,\n",
    "    label_names=LABEL_NAMES,\n",
    "    lr_discriminator=5e-5,\n",
    "    lr_generator=5e-5,\n",
    "    epsilon=1e-8,\n",
    "    num_train_epochs=5,\n",
    "    multi_gpu=False,\n",
    "    dropout_rate=0.2,\n",
    "    apply_scheduler=True,\n",
    "    warmup_proportion_d=0.1,\n",
    "    warmup_proportion_g=0.0,\n",
    "    fake_label_index=-1,\n",
    "    dataset=dataset_name,\n",
    "    save_path=\"../weights/best_model.pth\",\n",
    ")"
   ]
  },
  {
   "cell_type": "code",
   "execution_count": 63,
   "metadata": {
    "colab": {
     "base_uri": "https://localhost:8080/"
    },
    "executionInfo": {
     "elapsed": 368,
     "status": "ok",
     "timestamp": 1684976142184,
     "user": {
      "displayName": "Вадим Альперович",
      "userId": "02416847696576149422"
     },
     "user_tz": -180
    },
    "id": "rNqAWf7zR275",
    "outputId": "1eae6cc5-3b6b-47a4-b101-b74db55388fb"
   },
   "outputs": [
    {
     "name": "stdout",
     "output_type": "stream",
     "text": [
      "Multiplier: 4\n"
     ]
    },
    {
     "data": {
      "application/vnd.jupyter.widget-view+json": {
       "model_id": "",
       "version_major": 2,
       "version_minor": 0
      },
      "text/plain": [
       "Map:   0%|          | 0/9051 [00:00<?, ? examples/s]"
      ]
     },
     "metadata": {},
     "output_type": "display_data"
    },
    {
     "data": {
      "application/vnd.jupyter.widget-view+json": {
       "model_id": "",
       "version_major": 2,
       "version_minor": 0
      },
      "text/plain": [
       "Map:   0%|          | 0/7532 [00:00<?, ? examples/s]"
      ]
     },
     "metadata": {},
     "output_type": "display_data"
    },
    {
     "data": {
      "application/vnd.jupyter.widget-view+json": {
       "model_id": "",
       "version_major": 2,
       "version_minor": 0
      },
      "text/plain": [
       "Map:   0%|          | 0/2263 [00:00<?, ? examples/s]"
      ]
     },
     "metadata": {},
     "output_type": "display_data"
    },
    {
     "name": "stdout",
     "output_type": "stream",
     "text": [
      "TRAIN (FOR only discriminator): 200\n",
      "TRAIN (FOR GAN): 4800\n"
     ]
    },
    {
     "data": {
      "text/plain": [
       "DatasetDict({\n",
       "    train: Dataset({\n",
       "        features: ['labels', 'input_ids', 'token_type_ids', 'attention_mask', 'labeled_mask'],\n",
       "        num_rows: 4800\n",
       "    })\n",
       "    test: Dataset({\n",
       "        features: ['labels', 'input_ids', 'token_type_ids', 'attention_mask'],\n",
       "        num_rows: 7532\n",
       "    })\n",
       "    validation: Dataset({\n",
       "        features: ['labels', 'input_ids', 'token_type_ids', 'attention_mask'],\n",
       "        num_rows: 2263\n",
       "    })\n",
       "    train_only_labeled: Dataset({\n",
       "        features: ['labels', 'input_ids', 'token_type_ids', 'attention_mask', 'labeled_mask'],\n",
       "        num_rows: 200\n",
       "    })\n",
       "})"
      ]
     },
     "execution_count": 63,
     "metadata": {},
     "output_type": "execute_result"
    },
    {
     "data": {
      "application/javascript": [
       "\n",
       "            setTimeout(function() {\n",
       "                var nbb_cell_id = 63;\n",
       "                var nbb_unformatted_code = \"from copy import copy\\nfrom datasets import Dataset\\nfrom transformers import DataCollatorWithPadding\\nfrom torch.utils.data import DataLoader, RandomSampler, SequentialSampler\\n\\nLABELED_SIZE = 200\\nUNLABELED_SIZE = 4000\\nFULL_SIZE = LABELED_SIZE + UNLABELED_SIZE\\nmultiplier = int(np.log2(FULL_SIZE / LABELED_SIZE))\\nmultiplier = max(1, multiplier)\\nprint('Multiplier:', multiplier)\\n\\nnp.random.seed(42)\\n\\ndata_collator = DataCollatorWithPadding(tokenizer=tokenizer)\\n\\ndef prepare_experiment_datasets(LABELED_SIZE, UNLABELED_SIZE, FULL_SIZE, multiplier):\\n    tokenize = lambda x: tokenizer(x['text'], truncation=True, max_length=CONFIG['max_seq_length'])\\n    tokenized_dataset = dataset.map(tokenize, batched=True)\\n    tokenized_dataset = tokenized_dataset.remove_columns(['text'])\\n    tokenized_train_df = tokenized_dataset[\\\"train\\\"].to_pandas()\\n    tokenized_train_df_labeled = tokenized_train_df.sample(LABELED_SIZE)\\n    tokenized_train_df_labeled['labeled_mask'] = True\\n\\n    tokenized_train_df = tokenized_train_df.sample(UNLABELED_SIZE)\\n    tokenized_train_df['labeled_mask'] = False\\n    tokenized_train_df['labels'] = -100\\n\\n    for _ in range(multiplier):\\n        tokenized_train_df = tokenized_train_df.append(tokenized_train_df_labeled)\\n\\n\\n    tokenized_dataset['train'] = Dataset.from_pandas(tokenized_train_df, preserve_index=False)\\n    tokenized_dataset['train_only_labeled'] = Dataset.from_pandas(tokenized_train_df_labeled, preserve_index=False)\\n    print(\\\"TRAIN (FOR only discriminator):\\\", len(tokenized_dataset[\\\"train_only_labeled\\\"]))\\n    print(\\\"TRAIN (FOR GAN):\\\", len(tokenized_dataset[\\\"train\\\"]))\\n    return tokenized_dataset\\n\\n\\ntokenized_dataset = prepare_experiment_datasets(\\n    LABELED_SIZE, UNLABELED_SIZE, FULL_SIZE, multiplier\\n)\\ntokenized_dataset\";\n",
       "                var nbb_formatted_code = \"from copy import copy\\nfrom datasets import Dataset\\nfrom transformers import DataCollatorWithPadding\\nfrom torch.utils.data import DataLoader, RandomSampler, SequentialSampler\\n\\nLABELED_SIZE = 200\\nUNLABELED_SIZE = 4000\\nFULL_SIZE = LABELED_SIZE + UNLABELED_SIZE\\nmultiplier = int(np.log2(FULL_SIZE / LABELED_SIZE))\\nmultiplier = max(1, multiplier)\\nprint(\\\"Multiplier:\\\", multiplier)\\n\\nnp.random.seed(42)\\n\\ndata_collator = DataCollatorWithPadding(tokenizer=tokenizer)\\n\\n\\ndef prepare_experiment_datasets(LABELED_SIZE, UNLABELED_SIZE, FULL_SIZE, multiplier):\\n    tokenize = lambda x: tokenizer(\\n        x[\\\"text\\\"], truncation=True, max_length=CONFIG[\\\"max_seq_length\\\"]\\n    )\\n    tokenized_dataset = dataset.map(tokenize, batched=True)\\n    tokenized_dataset = tokenized_dataset.remove_columns([\\\"text\\\"])\\n    tokenized_train_df = tokenized_dataset[\\\"train\\\"].to_pandas()\\n    tokenized_train_df_labeled = tokenized_train_df.sample(LABELED_SIZE)\\n    tokenized_train_df_labeled[\\\"labeled_mask\\\"] = True\\n\\n    tokenized_train_df = tokenized_train_df.sample(UNLABELED_SIZE)\\n    tokenized_train_df[\\\"labeled_mask\\\"] = False\\n    tokenized_train_df[\\\"labels\\\"] = -100\\n\\n    for _ in range(multiplier):\\n        tokenized_train_df = tokenized_train_df.append(tokenized_train_df_labeled)\\n\\n    tokenized_dataset[\\\"train\\\"] = Dataset.from_pandas(\\n        tokenized_train_df, preserve_index=False\\n    )\\n    tokenized_dataset[\\\"train_only_labeled\\\"] = Dataset.from_pandas(\\n        tokenized_train_df_labeled, preserve_index=False\\n    )\\n    print(\\n        \\\"TRAIN (FOR only discriminator):\\\", len(tokenized_dataset[\\\"train_only_labeled\\\"])\\n    )\\n    print(\\\"TRAIN (FOR GAN):\\\", len(tokenized_dataset[\\\"train\\\"]))\\n    return tokenized_dataset\\n\\n\\ntokenized_dataset = prepare_experiment_datasets(\\n    LABELED_SIZE, UNLABELED_SIZE, FULL_SIZE, multiplier\\n)\\ntokenized_dataset\";\n",
       "                var nbb_cells = Jupyter.notebook.get_cells();\n",
       "                for (var i = 0; i < nbb_cells.length; ++i) {\n",
       "                    if (nbb_cells[i].input_prompt_number == nbb_cell_id) {\n",
       "                        if (nbb_cells[i].get_text() == nbb_unformatted_code) {\n",
       "                             nbb_cells[i].set_text(nbb_formatted_code);\n",
       "                        }\n",
       "                        break;\n",
       "                    }\n",
       "                }\n",
       "            }, 500);\n",
       "            "
      ],
      "text/plain": [
       "<IPython.core.display.Javascript object>"
      ]
     },
     "metadata": {},
     "output_type": "display_data"
    }
   ],
   "source": [
    "from copy import copy\n",
    "from datasets import Dataset\n",
    "from transformers import AutoTokenizer\n",
    "from transformers import DataCollatorWithPadding\n",
    "from torch.utils.data import DataLoader, RandomSampler, SequentialSampler\n",
    "\n",
    "\n",
    "\n",
    "LABELED_SIZE = 200\n",
    "UNLABELED_SIZE = 4000\n",
    "FULL_SIZE = LABELED_SIZE + UNLABELED_SIZE\n",
    "multiplier = int(np.log2(FULL_SIZE / LABELED_SIZE))\n",
    "multiplier = max(1, multiplier)\n",
    "print(\"Multiplier:\", multiplier)\n",
    "\n",
    "np.random.seed(42)\n",
    "\n",
    "\n",
    "tokenizer = AutoTokenizer.from_pretrained(model_name)\n",
    "data_collator = DataCollatorWithPadding(tokenizer=tokenizer)\n",
    "\n",
    "\n",
    "def prepare_experiment_datasets(LABELED_SIZE, UNLABELED_SIZE, FULL_SIZE, multiplier):\n",
    "    tokenize = lambda x: tokenizer(\n",
    "        x[\"text\"], truncation=True, max_length=CONFIG[\"max_seq_length\"]\n",
    "    )\n",
    "    tokenized_dataset = dataset.map(tokenize, batched=True)\n",
    "    tokenized_dataset = tokenized_dataset.remove_columns([\"text\"])\n",
    "    tokenized_train_df = tokenized_dataset[\"train\"].to_pandas()\n",
    "    tokenized_train_df_labeled = tokenized_train_df.sample(LABELED_SIZE)\n",
    "    tokenized_train_df_labeled[\"labeled_mask\"] = True\n",
    "\n",
    "    tokenized_train_df = tokenized_train_df.sample(UNLABELED_SIZE)\n",
    "    tokenized_train_df[\"labeled_mask\"] = False\n",
    "    tokenized_train_df[\"labels\"] = -100\n",
    "\n",
    "    for _ in range(multiplier):\n",
    "        tokenized_train_df = tokenized_train_df.append(tokenized_train_df_labeled)\n",
    "\n",
    "    tokenized_dataset[\"train\"] = Dataset.from_pandas(\n",
    "        tokenized_train_df, preserve_index=False\n",
    "    )\n",
    "    tokenized_dataset[\"train_only_labeled\"] = Dataset.from_pandas(\n",
    "        tokenized_train_df_labeled, preserve_index=False\n",
    "    )\n",
    "    print(\n",
    "        \"TRAIN (FOR only discriminator):\", len(tokenized_dataset[\"train_only_labeled\"])\n",
    "    )\n",
    "    print(\"TRAIN (FOR GAN):\", len(tokenized_dataset[\"train\"]))\n",
    "    return tokenized_dataset\n",
    "\n",
    "\n",
    "tokenized_dataset = prepare_experiment_datasets(\n",
    "    LABELED_SIZE, UNLABELED_SIZE, FULL_SIZE, multiplier\n",
    ")\n",
    "tokenized_dataset"
   ]
  },
  {
   "cell_type": "code",
   "execution_count": 18,
   "metadata": {
    "executionInfo": {
     "elapsed": 7,
     "status": "ok",
     "timestamp": 1684976142185,
     "user": {
      "displayName": "Вадим Альперович",
      "userId": "02416847696576149422"
     },
     "user_tz": -180
    },
    "id": "GoXIv64GLvnv"
   },
   "outputs": [],
   "source": [
    "train_only_labeled_dataloader = DataLoader(\n",
    "    tokenized_dataset[\"train_only_labeled\"],\n",
    "    batch_size=CONFIG[\"batch_size\"],\n",
    "    sampler=RandomSampler(tokenized_dataset[\"train_only_labeled\"]),\n",
    "    collate_fn=data_collator,\n",
    "    pin_memory=True,\n",
    ")\n",
    "\n",
    "train_dataloader = DataLoader(\n",
    "    tokenized_dataset[\"train\"],\n",
    "    batch_size=CONFIG[\"batch_size\"],\n",
    "    sampler=RandomSampler(tokenized_dataset[\"train\"]),\n",
    "    collate_fn=data_collator,\n",
    "    pin_memory=True,\n",
    ")\n",
    "\n",
    "valid_dataloader = DataLoader(\n",
    "    tokenized_dataset[\"validation\"],\n",
    "    batch_size=CONFIG[\"batch_size\"],\n",
    "    sampler=SequentialSampler(tokenized_dataset[\"validation\"]),\n",
    "    collate_fn=data_collator,\n",
    "    pin_memory=True,\n",
    ")\n",
    "\n",
    "test_dataloader = DataLoader(\n",
    "    tokenized_dataset[\"test\"],\n",
    "    batch_size=32,\n",
    "    sampler=SequentialSampler(tokenized_dataset[\"test\"]),\n",
    "    collate_fn=data_collator,\n",
    "    pin_memory=True,\n",
    ")"
   ]
  },
  {
   "cell_type": "markdown",
   "metadata": {
    "id": "SZgyRUTEhuV3"
   },
   "source": [
    "### Train only discriminator"
   ]
  },
  {
   "cell_type": "code",
   "execution_count": 34,
   "metadata": {
    "executionInfo": {
     "elapsed": 961,
     "status": "ok",
     "timestamp": 1684976143139,
     "user": {
      "displayName": "Вадим Альперович",
      "userId": "02416847696576149422"
     },
     "user_tz": -180
    },
    "id": "ysG51ZoYAoLq"
   },
   "outputs": [],
   "source": [
    "torch.cuda.empty_cache()\n",
    "gc.collect()\n",
    "from trainer import trainer as trainer_module\n",
    "from trainer import gan_trainer as gan_trainer_module\n",
    "\n",
    "trainer_module = imp.reload(trainer_module)\n",
    "gan_trainer_module = imp.reload(gan_trainer_module)"
   ]
  },
  {
   "cell_type": "code",
   "execution_count": 35,
   "metadata": {
    "colab": {
     "base_uri": "https://localhost:8080/"
    },
    "executionInfo": {
     "elapsed": 2392,
     "status": "ok",
     "timestamp": 1684976145522,
     "user": {
      "displayName": "Вадим Альперович",
      "userId": "02416847696576149422"
     },
     "user_tz": -180
    },
    "id": "VWrPGdzscVMx",
    "outputId": "3f594308-4ee5-4b6b-e00a-28bf73a248d6"
   },
   "outputs": [
    {
     "name": "stderr",
     "output_type": "stream",
     "text": [
      "Some weights of the model checkpoint at google/electra-base-discriminator were not used when initializing ElectraModel: ['discriminator_predictions.dense.weight', 'discriminator_predictions.dense_prediction.weight', 'discriminator_predictions.dense_prediction.bias', 'discriminator_predictions.dense.bias']\n",
      "- This IS expected if you are initializing ElectraModel from the checkpoint of a model trained on another task or with another architecture (e.g. initializing a BertForSequenceClassification model from a BertForPreTraining model).\n",
      "- This IS NOT expected if you are initializing ElectraModel from the checkpoint of a model that you expect to be exactly identical (initializing a BertForSequenceClassification model from a BertForSequenceClassification model).\n"
     ]
    }
   ],
   "source": [
    "from copy import copy\n",
    "\n",
    "BASE_CONFIG = copy(CONFIG)\n",
    "BASE_CONFIG[\"GAN\"] = False\n",
    "BASE_CONFIG[\"gan_training\"] = False\n",
    "BASE_CONFIG[\"num_labels\"] = NUM_LABELS\n",
    "BASE_CONFIG[\"num_train_epochs\"] = 5\n",
    "BASE_CONFIG[\"LABELED_SIZE\"] = LABELED_SIZE\n",
    "\n",
    "discriminator = model.DiscriminatorForSequenceClassification(**BASE_CONFIG)"
   ]
  },
  {
   "cell_type": "code",
   "execution_count": 36,
   "metadata": {
    "colab": {
     "base_uri": "https://localhost:8080/"
    },
    "executionInfo": {
     "elapsed": 8,
     "status": "ok",
     "timestamp": 1684976145522,
     "user": {
      "displayName": "Вадим Альперович",
      "userId": "02416847696576149422"
     },
     "user_tz": -180
    },
    "id": "mevAQ5KlGdlt",
    "outputId": "1751b04a-e3fc-4c19-80c5-464db88b1f44"
   },
   "outputs": [
    {
     "name": "stdout",
     "output_type": "stream",
     "text": [
      "Trainable layers 199\n"
     ]
    }
   ],
   "source": [
    "from trainer import trainer\n",
    "\n",
    "trainer = imp.reload(trainer)\n",
    "\n",
    "BASE_CONFIG[\"num_train_examples\"] = len(train_only_labeled_dataloader.dataset)\n",
    "trainer = trainer.TrainerSequenceClassification(\n",
    "    config=BASE_CONFIG,\n",
    "    discriminator=discriminator,\n",
    "    train_dataloader=train_only_labeled_dataloader,\n",
    "    valid_dataloader=valid_dataloader,\n",
    "    device=device,\n",
    ")\n"
   ]
  },
  {
   "cell_type": "code",
   "execution_count": 37,
   "metadata": {
    "colab": {
     "base_uri": "https://localhost:8080/",
     "height": 572
    },
    "executionInfo": {
     "elapsed": 136944,
     "status": "ok",
     "timestamp": 1684976282462,
     "user": {
      "displayName": "Вадим Альперович",
      "userId": "02416847696576149422"
     },
     "user_tz": -180
    },
    "id": "feZb9dx3GdbS",
    "outputId": "1ded8eed-db81-41ba-e37a-cb1edcdd5064"
   },
   "outputs": [
    {
     "name": "stdout",
     "output_type": "stream",
     "text": [
      "https://app.neptune.ai/vmalperovich/gan-in-nlp/e/GAN2-293\n"
     ]
    },
    {
     "name": "stderr",
     "output_type": "stream",
     "text": [
      "You're using a ElectraTokenizerFast tokenizer. Please note that with a fast tokenizer, using the `__call__` method is faster than using a method to encode the text followed by a call to the `pad` method to get a padded encoding.\n"
     ]
    },
    {
     "name": "stdout",
     "output_type": "stream",
     "text": [
      "======== Epoch 1 / 5 ========\n",
      "\tTrain loss discriminator: 3.007\n",
      "\tTest loss discriminator: 3.010\n",
      "\tTest accuracy discriminator: 0.076\n",
      "\tTest f1 discriminator: 0.027\n",
      "======== Epoch 2 / 5 ========\n",
      "\tTrain loss discriminator: 2.915\n",
      "\tTest loss discriminator: 2.999\n",
      "\tTest accuracy discriminator: 0.068\n",
      "\tTest f1 discriminator: 0.023\n",
      "======== Epoch 3 / 5 ========\n",
      "\tTrain loss discriminator: 2.800\n",
      "\tTest loss discriminator: 2.945\n",
      "\tTest accuracy discriminator: 0.090\n",
      "\tTest f1 discriminator: 0.035\n",
      "======== Epoch 4 / 5 ========\n",
      "\tTrain loss discriminator: 2.606\n",
      "\tTest loss discriminator: 2.853\n",
      "\tTest accuracy discriminator: 0.110\n",
      "\tTest f1 discriminator: 0.042\n",
      "======== Epoch 5 / 5 ========\n",
      "\tTrain loss discriminator: 2.397\n",
      "\tTest loss discriminator: 2.777\n",
      "\tTest accuracy discriminator: 0.161\n",
      "\tTest f1 discriminator: 0.091\n",
      "CPU times: user 43 s, sys: 2.26 s, total: 45.3 s\n",
      "Wall time: 46.4 s\n"
     ]
    }
   ],
   "source": [
    "%%time\n",
    "run = None\n",
    "run = neptune.init_run(\n",
    "    project=secret[\"neptune_project\"], api_token=secret[\"neptune_token\"], tags=['test']\n",
    ")\n",
    "run[\"config\"] = trainer.config\n",
    "\n",
    "for epoch_i in range(BASE_CONFIG[\"num_train_epochs\"]):\n",
    "    print(f\"======== Epoch {epoch_i + 1} / {BASE_CONFIG['num_train_epochs']} ========\")\n",
    "    train_info = trainer.train_epoch(log_env=run)\n",
    "    valid_metrics = trainer.validation(log_env=run)\n",
    "# run.stop()"
   ]
  },
  {
   "cell_type": "code",
   "execution_count": 8,
   "metadata": {
    "colab": {
     "base_uri": "https://localhost:8080/"
    },
    "executionInfo": {
     "elapsed": 6168,
     "status": "ok",
     "timestamp": 1684973633810,
     "user": {
      "displayName": "Вадим Альперович",
      "userId": "02416847696576149422"
     },
     "user_tz": -180
    },
    "id": "OCf7QL-9duh7",
    "outputId": "d962e0e7-bc46-4d00-b807-c90d835c51ce"
   },
   "outputs": [
    {
     "data": {
      "application/javascript": [
       "\n",
       "            setTimeout(function() {\n",
       "                var nbb_cell_id = 8;\n",
       "                var nbb_unformatted_code = \"# predict_info = trainer.predict(\\n#     discriminator, test_dataloader, label_names=CONFIG[\\\"label_names\\\"]\\n# )\\n# run[\\\"test\\\"] = predict_info\\n# run.stop()\\n# predict_info\";\n",
       "                var nbb_formatted_code = \"# predict_info = trainer.predict(\\n#     discriminator, test_dataloader, label_names=CONFIG[\\\"label_names\\\"]\\n# )\\n# run[\\\"test\\\"] = predict_info\\n# run.stop()\\n# predict_info\";\n",
       "                var nbb_cells = Jupyter.notebook.get_cells();\n",
       "                for (var i = 0; i < nbb_cells.length; ++i) {\n",
       "                    if (nbb_cells[i].input_prompt_number == nbb_cell_id) {\n",
       "                        if (nbb_cells[i].get_text() == nbb_unformatted_code) {\n",
       "                             nbb_cells[i].set_text(nbb_formatted_code);\n",
       "                        }\n",
       "                        break;\n",
       "                    }\n",
       "                }\n",
       "            }, 500);\n",
       "            "
      ],
      "text/plain": [
       "<IPython.core.display.Javascript object>"
      ]
     },
     "metadata": {},
     "output_type": "display_data"
    }
   ],
   "source": [
    "predict_info = trainer.predict(\n",
    "    discriminator, test_dataloader, label_names=CONFIG[\"label_names\"]\n",
    ")\n",
    "run[\"test\"] = predict_info\n",
    "run.stop()\n",
    "predict_info"
   ]
  },
  {
   "cell_type": "markdown",
   "metadata": {
    "id": "Emltuf91h0KL"
   },
   "source": [
    "### Train via GAN"
   ]
  },
  {
   "cell_type": "code",
   "execution_count": 39,
   "metadata": {
    "id": "JdrzbtnJIVox"
   },
   "outputs": [],
   "source": [
    "import gc\n",
    "\n",
    "gc.collect()\n",
    "torch.cuda.empty_cache()"
   ]
  },
  {
   "cell_type": "code",
   "execution_count": 40,
   "metadata": {
    "id": "8NY8tCLlgaNz"
   },
   "outputs": [],
   "source": [
    "from copy import copy\n",
    "\n",
    "GAN_CONFIG = copy(CONFIG)\n",
    "GAN_CONFIG[\"GAN\"] = True\n",
    "GAN_CONFIG[\"gan_training\"] = True\n",
    "GAN_CONFIG[\"GAN_TYPE\"] = \"dummy\"\n",
    "GAN_CONFIG[\"mixed_fake_ratio\"] = 0.2\n",
    "GAN_CONFIG[\"LABELED_SIZE\"] = LABELED_SIZE\n",
    "GAN_CONFIG[\"UNLABELED_SIZE\"] = UNLABELED_SIZE\n",
    "GAN_CONFIG[\"num_train_epochs\"] = 5\n",
    "\n",
    "\n",
    "# GAN_CONFIG"
   ]
  },
  {
   "cell_type": "code",
   "execution_count": 41,
   "metadata": {
    "colab": {
     "base_uri": "https://localhost:8080/"
    },
    "executionInfo": {
     "elapsed": 1987,
     "status": "ok",
     "timestamp": 1684973636000,
     "user": {
      "displayName": "Вадим Альперович",
      "userId": "02416847696576149422"
     },
     "user_tz": -180
    },
    "id": "KBiAZxTY6dh7",
    "outputId": "5d7f15f5-4ba3-41ca-8418-fbc8af37d2f6"
   },
   "outputs": [
    {
     "name": "stderr",
     "output_type": "stream",
     "text": [
      "Some weights of the model checkpoint at google/electra-base-discriminator were not used when initializing ElectraModel: ['discriminator_predictions.dense.weight', 'discriminator_predictions.dense_prediction.weight', 'discriminator_predictions.dense_prediction.bias', 'discriminator_predictions.dense.bias']\n",
      "- This IS expected if you are initializing ElectraModel from the checkpoint of a model trained on another task or with another architecture (e.g. initializing a BertForSequenceClassification model from a BertForPreTraining model).\n",
      "- This IS NOT expected if you are initializing ElectraModel from the checkpoint of a model that you expect to be exactly identical (initializing a BertForSequenceClassification model from a BertForSequenceClassification model).\n"
     ]
    },
    {
     "name": "stdout",
     "output_type": "stream",
     "text": [
      "Training with GAN mode on!\n",
      "Default fake label index is -1\n"
     ]
    },
    {
     "data": {
      "text/plain": [
       "SimpleSequenceGenerator(\n",
       "  (layers): Sequential(\n",
       "    (0): Linear(in_features=100, out_features=768, bias=True)\n",
       "    (1): LeakyReLU(negative_slope=0.2, inplace=True)\n",
       "    (2): Dropout(p=0.2, inplace=False)\n",
       "    (3): LayerNorm((768,), eps=1e-05, elementwise_affine=True)\n",
       "    (4): Linear(in_features=768, out_features=768, bias=True)\n",
       "    (5): LeakyReLU(negative_slope=0.2, inplace=True)\n",
       "    (6): Dropout(p=0.2, inplace=False)\n",
       "    (7): LayerNorm((768,), eps=1e-05, elementwise_affine=True)\n",
       "  )\n",
       ")"
      ]
     },
     "execution_count": 41,
     "metadata": {},
     "output_type": "execute_result"
    }
   ],
   "source": [
    "generator = model.SimpleSequenceGenerator(\n",
    "    input_size=CONFIG[\"noise_size\"],\n",
    "    output_size=discriminator.encoder.config.hidden_size,\n",
    ")\n",
    "discriminator = model.DiscriminatorForSequenceClassification(**GAN_CONFIG)\n",
    "generator"
   ]
  },
  {
   "cell_type": "code",
   "execution_count": 42,
   "metadata": {
    "colab": {
     "base_uri": "https://localhost:8080/"
    },
    "executionInfo": {
     "elapsed": 6,
     "status": "ok",
     "timestamp": 1684973636000,
     "user": {
      "displayName": "Вадим Альперович",
      "userId": "02416847696576149422"
     },
     "user_tz": -180
    },
    "id": "42peLTZI6ddc",
    "outputId": "f5ec379f-fd27-458a-81d0-d9bc3b94830c"
   },
   "outputs": [
    {
     "name": "stdout",
     "output_type": "stream",
     "text": [
      "Trainable layers 199\n"
     ]
    }
   ],
   "source": [
    "from trainer import gan_trainer as gan_trainer_module\n",
    "\n",
    "gan_trainer_module = imp.reload(gan_trainer_module)\n",
    "\n",
    "GAN_CONFIG[\"num_train_examples\"] = len(train_dataloader.dataset)\n",
    "gan_trainer = gan_trainer_module.GANTrainerSequenceClassification(\n",
    "    config=GAN_CONFIG,\n",
    "    discriminator=discriminator,\n",
    "    generator=generator,\n",
    "    train_dataloader=train_dataloader,\n",
    "    valid_dataloader=valid_dataloader,\n",
    "    device=device,\n",
    ")"
   ]
  },
  {
   "cell_type": "code",
   "execution_count": 43,
   "metadata": {
    "colab": {
     "base_uri": "https://localhost:8080/"
    },
    "executionInfo": {
     "elapsed": 410486,
     "status": "ok",
     "timestamp": 1684974046484,
     "user": {
      "displayName": "Вадим Альперович",
      "userId": "02416847696576149422"
     },
     "user_tz": -180
    },
    "id": "jyfUJg0DqlkN",
    "outputId": "0daf1e5c-b364-405e-b710-240742f5d75a"
   },
   "outputs": [
    {
     "name": "stdout",
     "output_type": "stream",
     "text": [
      "https://app.neptune.ai/vmalperovich/gan-in-nlp/e/GAN2-294\n",
      "======== Epoch 1 / 5 ========\n",
      "\tTrain loss discriminator: 4.386\n",
      "\tTrain loss generator: 0.541\n",
      "\tTest loss discriminator: 2.961\n",
      "\tTest accuracy discriminator: 0.104\n",
      "\tTest f1 discriminator: 0.031\n",
      "======== Epoch 2 / 5 ========\n",
      "\tTrain loss discriminator: 3.042\n",
      "\tTrain loss generator: 0.849\n",
      "\tTest loss discriminator: 2.323\n",
      "\tTest accuracy discriminator: 0.309\n",
      "\tTest f1 discriminator: 0.275\n",
      "======== Epoch 3 / 5 ========\n",
      "\tTrain loss discriminator: 1.726\n",
      "\tTrain loss generator: 0.836\n",
      "\tTest loss discriminator: 2.030\n",
      "\tTest accuracy discriminator: 0.412\n",
      "\tTest f1 discriminator: 0.367\n",
      "======== Epoch 4 / 5 ========\n",
      "\tTrain loss discriminator: 1.565\n",
      "\tTrain loss generator: 0.831\n",
      "\tTest loss discriminator: 2.000\n",
      "\tTest accuracy discriminator: 0.433\n",
      "\tTest f1 discriminator: 0.409\n",
      "======== Epoch 5 / 5 ========\n",
      "\tTrain loss discriminator: 0.998\n",
      "\tTrain loss generator: 0.806\n",
      "\tTest loss discriminator: 2.183\n",
      "\tTest accuracy discriminator: 0.455\n",
      "\tTest f1 discriminator: 0.448\n",
      "CPU times: user 6min 1s, sys: 45.9 s, total: 6min 47s\n",
      "Wall time: 6min 47s\n"
     ]
    }
   ],
   "source": [
    "%%time\n",
    "run = None\n",
    "tags = None\n",
    "run = neptune.init_run(\n",
    "    project=secret[\"neptune_project\"], api_token=secret[\"neptune_token\"], tags=tags\n",
    ")\n",
    "run[\"config\"] = gan_trainer.config\n",
    "\n",
    "\n",
    "for epoch_i in range(GAN_CONFIG[\"num_train_epochs\"]):\n",
    "    print(f\"======== Epoch {epoch_i + 1} / {GAN_CONFIG['num_train_epochs']} ========\")\n",
    "    train_info = gan_trainer.train_epoch(log_env=run)\n",
    "    result = gan_trainer.validation(log_env=run)\n",
    "# run.stop()"
   ]
  },
  {
   "cell_type": "code",
   "execution_count": 9,
   "metadata": {
    "colab": {
     "base_uri": "https://localhost:8080/"
    },
    "executionInfo": {
     "elapsed": 6783,
     "status": "ok",
     "timestamp": 1684974053253,
     "user": {
      "displayName": "Вадим Альперович",
      "userId": "02416847696576149422"
     },
     "user_tz": -180
    },
    "id": "FhD2XEovpOLE",
    "outputId": "cb7d6a65-4fb3-423e-c96b-d135efb35761"
   },
   "outputs": [
    {
     "data": {
      "application/javascript": [
       "\n",
       "            setTimeout(function() {\n",
       "                var nbb_cell_id = 9;\n",
       "                var nbb_unformatted_code = \"# predict_info = gan_trainer.predict(\\n#     discriminator, test_dataloader, label_names=CONFIG[\\\"label_names\\\"]\\n# )\\n# run[\\\"test\\\"] = predict_info\\n# run.stop()\\n# predict_info\";\n",
       "                var nbb_formatted_code = \"# predict_info = gan_trainer.predict(\\n#     discriminator, test_dataloader, label_names=CONFIG[\\\"label_names\\\"]\\n# )\\n# run[\\\"test\\\"] = predict_info\\n# run.stop()\\n# predict_info\";\n",
       "                var nbb_cells = Jupyter.notebook.get_cells();\n",
       "                for (var i = 0; i < nbb_cells.length; ++i) {\n",
       "                    if (nbb_cells[i].input_prompt_number == nbb_cell_id) {\n",
       "                        if (nbb_cells[i].get_text() == nbb_unformatted_code) {\n",
       "                             nbb_cells[i].set_text(nbb_formatted_code);\n",
       "                        }\n",
       "                        break;\n",
       "                    }\n",
       "                }\n",
       "            }, 500);\n",
       "            "
      ],
      "text/plain": [
       "<IPython.core.display.Javascript object>"
      ]
     },
     "metadata": {},
     "output_type": "display_data"
    }
   ],
   "source": [
    "predict_info = gan_trainer.predict(\n",
    "    discriminator, test_dataloader, label_names=CONFIG[\"label_names\"]\n",
    ")\n",
    "run[\"test\"] = predict_info\n",
    "run.stop()\n",
    "predict_info"
   ]
  },
  {
   "cell_type": "markdown",
   "metadata": {},
   "source": [
    "# Exeperiments"
   ]
  },
  {
   "cell_type": "code",
   "execution_count": 67,
   "metadata": {},
   "outputs": [
    {
     "data": {
      "application/javascript": [
       "\n",
       "            setTimeout(function() {\n",
       "                var nbb_cell_id = 67;\n",
       "                var nbb_unformatted_code = \"from trainer import trainer as trainer_module\\nfrom trainer import gan_trainer as gan_trainer_module\\n\\n\\n# model_name = \\\"bert-base-cased\\\"\\nmodel_name = \\\"distilbert-base-uncased\\\"\\n# model_name = \\\"google/electra-small-discriminator\\\"\\n# model_name = \\\"bert-base-uncased\\\"\\n# model_name = \\\"google/electra-base-discriminator\\\"\\ntokenizer = AutoTokenizer.from_pretrained(model_name)\\ndata_collator = DataCollatorWithPadding(tokenizer=tokenizer)\\n\\ntags = [\\\"FINAL\\\"]\";\n",
       "                var nbb_formatted_code = \"from trainer import trainer as trainer_module\\nfrom trainer import gan_trainer as gan_trainer_module\\n\\n\\n# model_name = \\\"bert-base-cased\\\"\\nmodel_name = \\\"distilbert-base-uncased\\\"\\n# model_name = \\\"google/electra-small-discriminator\\\"\\n# model_name = \\\"bert-base-uncased\\\"\\n# model_name = \\\"google/electra-base-discriminator\\\"\\ntokenizer = AutoTokenizer.from_pretrained(model_name)\\ndata_collator = DataCollatorWithPadding(tokenizer=tokenizer)\\n\\ntags = [\\\"FINAL\\\"]\";\n",
       "                var nbb_cells = Jupyter.notebook.get_cells();\n",
       "                for (var i = 0; i < nbb_cells.length; ++i) {\n",
       "                    if (nbb_cells[i].input_prompt_number == nbb_cell_id) {\n",
       "                        if (nbb_cells[i].get_text() == nbb_unformatted_code) {\n",
       "                             nbb_cells[i].set_text(nbb_formatted_code);\n",
       "                        }\n",
       "                        break;\n",
       "                    }\n",
       "                }\n",
       "            }, 500);\n",
       "            "
      ],
      "text/plain": [
       "<IPython.core.display.Javascript object>"
      ]
     },
     "metadata": {},
     "output_type": "display_data"
    }
   ],
   "source": [
    "from trainer import trainer as trainer_module\n",
    "from trainer import gan_trainer as gan_trainer_module\n",
    "\n",
    "\n",
    "# model_name = \"bert-base-cased\"\n",
    "model_name = \"distilbert-base-uncased\"\n",
    "# model_name = \"google/electra-small-discriminator\"\n",
    "# model_name = \"google/electra-base-discriminator\"\n",
    "tokenizer = AutoTokenizer.from_pretrained(model_name)\n",
    "data_collator = DataCollatorWithPadding(tokenizer=tokenizer)\n",
    "\n",
    "tags = [\"FINAL\"]"
   ]
  },
  {
   "cell_type": "code",
   "execution_count": 68,
   "metadata": {},
   "outputs": [
    {
     "name": "stdout",
     "output_type": "stream",
     "text": [
      "20\n",
      "3000\n"
     ]
    },
    {
     "data": {
      "application/javascript": [
       "\n",
       "            setTimeout(function() {\n",
       "                var nbb_cell_id = 68;\n",
       "                var nbb_unformatted_code = \"CONFIG[\\\"encoder_name\\\"] = model_name\\nCONFIG[\\\"noise_range\\\"] = (-2, 2)\\nCONFIG[\\\"noise_range_str\\\"] = str(CONFIG[\\\"noise_range\\\"])\\nCONFIG[\\\"noise_type\\\"] = \\\"uniform\\\"\\nCONFIG[\\\"num_train_epochs\\\"] = 3\\n# CONFIG[\\\"gen_multiplier\\\"] = 4\\nprint(CONFIG[\\\"num_labels\\\"])\\n\\nNUM_TRIALS_GAN = 2\\nUNLABELED_SIZE = min(CONFIG[\\\"num_labels\\\"] * 150, CONFIG[\\\"dataset_train_size\\\"] - 1)\\nprint(UNLABELED_SIZE)\";\n",
       "                var nbb_formatted_code = \"CONFIG[\\\"encoder_name\\\"] = model_name\\nCONFIG[\\\"noise_range\\\"] = (-2, 2)\\nCONFIG[\\\"noise_range_str\\\"] = str(CONFIG[\\\"noise_range\\\"])\\nCONFIG[\\\"noise_type\\\"] = \\\"uniform\\\"\\nCONFIG[\\\"num_train_epochs\\\"] = 3\\n# CONFIG[\\\"gen_multiplier\\\"] = 4\\nprint(CONFIG[\\\"num_labels\\\"])\\n\\nNUM_TRIALS_GAN = 2\\nUNLABELED_SIZE = min(CONFIG[\\\"num_labels\\\"] * 150, CONFIG[\\\"dataset_train_size\\\"] - 1)\\nprint(UNLABELED_SIZE)\";\n",
       "                var nbb_cells = Jupyter.notebook.get_cells();\n",
       "                for (var i = 0; i < nbb_cells.length; ++i) {\n",
       "                    if (nbb_cells[i].input_prompt_number == nbb_cell_id) {\n",
       "                        if (nbb_cells[i].get_text() == nbb_unformatted_code) {\n",
       "                             nbb_cells[i].set_text(nbb_formatted_code);\n",
       "                        }\n",
       "                        break;\n",
       "                    }\n",
       "                }\n",
       "            }, 500);\n",
       "            "
      ],
      "text/plain": [
       "<IPython.core.display.Javascript object>"
      ]
     },
     "metadata": {},
     "output_type": "display_data"
    }
   ],
   "source": [
    "CONFIG[\"encoder_name\"] = model_name\n",
    "CONFIG[\"noise_range\"] = (-2, 2)\n",
    "CONFIG[\"noise_range_str\"] = str(CONFIG[\"noise_range\"])\n",
    "CONFIG[\"noise_type\"] = \"uniform\"\n",
    "CONFIG[\"num_train_epochs\"] = 3\n",
    "# CONFIG[\"gen_multiplier\"] = 4\n",
    "print(CONFIG[\"num_labels\"])\n",
    "\n",
    "NUM_TRIALS_GAN = 2\n",
    "UNLABELED_SIZE = min(CONFIG[\"num_labels\"] * 150, CONFIG[\"dataset_train_size\"] - 1)\n",
    "print(UNLABELED_SIZE)"
   ]
  },
  {
   "cell_type": "code",
   "execution_count": 10,
   "metadata": {},
   "outputs": [
    {
     "data": {
      "application/javascript": [
       "\n",
       "            setTimeout(function() {\n",
       "                var nbb_cell_id = 10;\n",
       "                var nbb_unformatted_code = \"# for per_label in tqdm_notebook([5, 10, 20, 50, 100]):\\n#     LABELED_SIZE = CONFIG[\\\"num_labels\\\"] * per_label\\n#     print(f\\\"\\\\n\\\\n\\\\n****************{LABELED_SIZE}***********\\\\n\\\\n\\\\n\\\")\\n\\n#     CONFIG[\\\"per_label_samples\\\"] = per_label\\n#     try:\\n#         del discriminator\\n#     except:\\n#         pass\\n#     torch.cuda.empty_cache()\\n#     gc.collect()\\n#     FULL_SIZE = LABELED_SIZE + UNLABELED_SIZE\\n#     multiplier = int(np.log2(FULL_SIZE / LABELED_SIZE)) - 1\\n#     multiplier = max(1, multiplier)\\n#     print(\\\"Multiplier:\\\", multiplier)\\n\\n#     tokenized_dataset = prepare_experiment_datasets(\\n#         LABELED_SIZE, UNLABELED_SIZE, FULL_SIZE, multiplier\\n#     )\\n\\n#     train_only_labeled_dataloader = DataLoader(\\n#         tokenized_dataset[\\\"train_only_labeled\\\"],\\n#         batch_size=CONFIG[\\\"batch_size\\\"],\\n#         sampler=RandomSampler(tokenized_dataset[\\\"train_only_labeled\\\"]),\\n#         collate_fn=data_collator,\\n#         pin_memory=True,\\n#     )\\n\\n#     train_dataloader = DataLoader(\\n#         tokenized_dataset[\\\"train\\\"],\\n#         batch_size=CONFIG[\\\"batch_size\\\"],\\n#         sampler=RandomSampler(tokenized_dataset[\\\"train\\\"]),\\n#         collate_fn=data_collator,\\n#         pin_memory=True,\\n#     )\\n\\n#     valid_dataloader = DataLoader(\\n#         tokenized_dataset[\\\"validation\\\"],\\n#         batch_size=CONFIG[\\\"batch_size\\\"],\\n#         sampler=SequentialSampler(tokenized_dataset[\\\"validation\\\"]),\\n#         collate_fn=data_collator,\\n#         pin_memory=True,\\n#     )\\n\\n#     test_dataloader = DataLoader(\\n#         tokenized_dataset[\\\"test\\\"],\\n#         batch_size=32,\\n#         sampler=SequentialSampler(tokenized_dataset[\\\"test\\\"]),\\n#         collate_fn=data_collator,\\n#         pin_memory=True,\\n#     )\\n#     for _ in range(2):\\n#         # NO GAN\\n#         print(\\\"NO GAN...\\\")\\n#         try:\\n#             del discriminator\\n#         except:\\n#             pass\\n#         torch.cuda.empty_cache()\\n#         gc.collect()\\n#         BASE_CONFIG = copy(CONFIG)\\n#         BASE_CONFIG[\\\"num_train_examples\\\"] = len(train_only_labeled_dataloader.dataset)\\n#         BASE_CONFIG[\\\"GAN\\\"] = False\\n#         BASE_CONFIG[\\\"gan_training\\\"] = False\\n#         BASE_CONFIG[\\\"LABELED_SIZE\\\"] = LABELED_SIZE\\n#         discriminator = model.DiscriminatorForSequenceClassification(**BASE_CONFIG)\\n#         print(discriminator.encoder_name)\\n#         trainer = trainer_module.TrainerSequenceClassification(\\n#             config=BASE_CONFIG,\\n#             discriminator=discriminator,\\n#             train_dataloader=train_only_labeled_dataloader,\\n#             valid_dataloader=valid_dataloader,\\n#             device=device,\\n#         )\\n#         run = neptune.init_run(\\n#             project=secret[\\\"neptune_project\\\"],\\n#             api_token=secret[\\\"neptune_token\\\"],\\n#             tags=tags,\\n#         )\\n#         run[\\\"config\\\"] = trainer.config\\n\\n#         for epoch_i in range(BASE_CONFIG[\\\"num_train_epochs\\\"]):\\n#             print(f\\\"== Epoch {epoch_i + 1} / {BASE_CONFIG['num_train_epochs']} ==\\\")\\n#             train_info = trainer.train_epoch(log_env=run)\\n#             valid_metrics = trainer.validation(log_env=run)\\n#         predict_info = trainer.predict(\\n#             discriminator, test_dataloader, label_names=CONFIG[\\\"label_names\\\"]\\n#         )\\n#         run[\\\"test\\\"] = predict_info\\n#         run.stop()\\n\\n#     for _ in range(NUM_TRIALS_GAN):\\n#         # GAN\\n#         print(\\\"GAN...\\\")\\n#         del discriminator\\n#         gc.collect()\\n#         torch.cuda.empty_cache()\\n#         GAN_CONFIG = copy(CONFIG)\\n#         GAN_CONFIG[\\\"GAN\\\"] = True\\n#         GAN_CONFIG[\\\"gan_training\\\"] = True\\n#         GAN_CONFIG[\\\"GAN_TYPE\\\"] = \\\"dummy\\\"\\n#         GAN_CONFIG[\\\"LABELED_SIZE\\\"] = LABELED_SIZE\\n#         GAN_CONFIG[\\\"UNLABELED_SIZE\\\"] = UNLABELED_SIZE\\n#         GAN_CONFIG[\\\"FULL_SIZE\\\"] = FULL_SIZE\\n#         discriminator = model.DiscriminatorForSequenceClassification(**GAN_CONFIG)\\n#         generator = model.SimpleSequenceGenerator(\\n#             input_size=CONFIG[\\\"noise_size\\\"],\\n#             output_size=discriminator.encoder.config.hidden_size,\\n#         )\\n\\n#         GAN_CONFIG[\\\"num_train_examples\\\"] = len(train_dataloader.dataset)\\n#         gan_trainer = gan_trainer_module.GANTrainerSequenceClassification(\\n#             config=GAN_CONFIG,\\n#             discriminator=discriminator,\\n#             generator=generator,\\n#             train_dataloader=train_dataloader,\\n#             valid_dataloader=valid_dataloader,\\n#             device=device,\\n#             save_path=CONFIG[\\\"save_path\\\"],\\n#         )\\n#         run = neptune.init_run(\\n#             project=secret[\\\"neptune_project\\\"],\\n#             api_token=secret[\\\"neptune_token\\\"],\\n#             tags=tags,\\n#         )\\n#         run[\\\"config\\\"] = gan_trainer.config\\n\\n#         for epoch_i in range(GAN_CONFIG[\\\"num_train_epochs\\\"]):\\n#             print(f\\\"== Epoch {epoch_i + 1} / {GAN_CONFIG['num_train_epochs']} ==\\\")\\n#             train_info = gan_trainer.train_epoch(log_env=run)\\n#             result = gan_trainer.validation(log_env=run)\\n#         discriminator.load_state_dict(torch.load(CONFIG[\\\"save_path\\\"]))\\n#         predict_info = gan_trainer.predict(\\n#             discriminator, test_dataloader, label_names=CONFIG[\\\"label_names\\\"]\\n#         )\\n#         run[\\\"test\\\"] = predict_info\\n#         run.stop()\";\n",
       "                var nbb_formatted_code = \"# for per_label in tqdm_notebook([5, 10, 20, 50, 100]):\\n#     LABELED_SIZE = CONFIG[\\\"num_labels\\\"] * per_label\\n#     print(f\\\"\\\\n\\\\n\\\\n****************{LABELED_SIZE}***********\\\\n\\\\n\\\\n\\\")\\n\\n#     CONFIG[\\\"per_label_samples\\\"] = per_label\\n#     try:\\n#         del discriminator\\n#     except:\\n#         pass\\n#     torch.cuda.empty_cache()\\n#     gc.collect()\\n#     FULL_SIZE = LABELED_SIZE + UNLABELED_SIZE\\n#     multiplier = int(np.log2(FULL_SIZE / LABELED_SIZE)) - 1\\n#     multiplier = max(1, multiplier)\\n#     print(\\\"Multiplier:\\\", multiplier)\\n\\n#     tokenized_dataset = prepare_experiment_datasets(\\n#         LABELED_SIZE, UNLABELED_SIZE, FULL_SIZE, multiplier\\n#     )\\n\\n#     train_only_labeled_dataloader = DataLoader(\\n#         tokenized_dataset[\\\"train_only_labeled\\\"],\\n#         batch_size=CONFIG[\\\"batch_size\\\"],\\n#         sampler=RandomSampler(tokenized_dataset[\\\"train_only_labeled\\\"]),\\n#         collate_fn=data_collator,\\n#         pin_memory=True,\\n#     )\\n\\n#     train_dataloader = DataLoader(\\n#         tokenized_dataset[\\\"train\\\"],\\n#         batch_size=CONFIG[\\\"batch_size\\\"],\\n#         sampler=RandomSampler(tokenized_dataset[\\\"train\\\"]),\\n#         collate_fn=data_collator,\\n#         pin_memory=True,\\n#     )\\n\\n#     valid_dataloader = DataLoader(\\n#         tokenized_dataset[\\\"validation\\\"],\\n#         batch_size=CONFIG[\\\"batch_size\\\"],\\n#         sampler=SequentialSampler(tokenized_dataset[\\\"validation\\\"]),\\n#         collate_fn=data_collator,\\n#         pin_memory=True,\\n#     )\\n\\n#     test_dataloader = DataLoader(\\n#         tokenized_dataset[\\\"test\\\"],\\n#         batch_size=32,\\n#         sampler=SequentialSampler(tokenized_dataset[\\\"test\\\"]),\\n#         collate_fn=data_collator,\\n#         pin_memory=True,\\n#     )\\n#     for _ in range(2):\\n#         # NO GAN\\n#         print(\\\"NO GAN...\\\")\\n#         try:\\n#             del discriminator\\n#         except:\\n#             pass\\n#         torch.cuda.empty_cache()\\n#         gc.collect()\\n#         BASE_CONFIG = copy(CONFIG)\\n#         BASE_CONFIG[\\\"num_train_examples\\\"] = len(train_only_labeled_dataloader.dataset)\\n#         BASE_CONFIG[\\\"GAN\\\"] = False\\n#         BASE_CONFIG[\\\"gan_training\\\"] = False\\n#         BASE_CONFIG[\\\"LABELED_SIZE\\\"] = LABELED_SIZE\\n#         discriminator = model.DiscriminatorForSequenceClassification(**BASE_CONFIG)\\n#         print(discriminator.encoder_name)\\n#         trainer = trainer_module.TrainerSequenceClassification(\\n#             config=BASE_CONFIG,\\n#             discriminator=discriminator,\\n#             train_dataloader=train_only_labeled_dataloader,\\n#             valid_dataloader=valid_dataloader,\\n#             device=device,\\n#         )\\n#         run = neptune.init_run(\\n#             project=secret[\\\"neptune_project\\\"],\\n#             api_token=secret[\\\"neptune_token\\\"],\\n#             tags=tags,\\n#         )\\n#         run[\\\"config\\\"] = trainer.config\\n\\n#         for epoch_i in range(BASE_CONFIG[\\\"num_train_epochs\\\"]):\\n#             print(f\\\"== Epoch {epoch_i + 1} / {BASE_CONFIG['num_train_epochs']} ==\\\")\\n#             train_info = trainer.train_epoch(log_env=run)\\n#             valid_metrics = trainer.validation(log_env=run)\\n#         predict_info = trainer.predict(\\n#             discriminator, test_dataloader, label_names=CONFIG[\\\"label_names\\\"]\\n#         )\\n#         run[\\\"test\\\"] = predict_info\\n#         run.stop()\\n\\n#     for _ in range(NUM_TRIALS_GAN):\\n#         # GAN\\n#         print(\\\"GAN...\\\")\\n#         del discriminator\\n#         gc.collect()\\n#         torch.cuda.empty_cache()\\n#         GAN_CONFIG = copy(CONFIG)\\n#         GAN_CONFIG[\\\"GAN\\\"] = True\\n#         GAN_CONFIG[\\\"gan_training\\\"] = True\\n#         GAN_CONFIG[\\\"GAN_TYPE\\\"] = \\\"dummy\\\"\\n#         GAN_CONFIG[\\\"LABELED_SIZE\\\"] = LABELED_SIZE\\n#         GAN_CONFIG[\\\"UNLABELED_SIZE\\\"] = UNLABELED_SIZE\\n#         GAN_CONFIG[\\\"FULL_SIZE\\\"] = FULL_SIZE\\n#         discriminator = model.DiscriminatorForSequenceClassification(**GAN_CONFIG)\\n#         generator = model.SimpleSequenceGenerator(\\n#             input_size=CONFIG[\\\"noise_size\\\"],\\n#             output_size=discriminator.encoder.config.hidden_size,\\n#         )\\n\\n#         GAN_CONFIG[\\\"num_train_examples\\\"] = len(train_dataloader.dataset)\\n#         gan_trainer = gan_trainer_module.GANTrainerSequenceClassification(\\n#             config=GAN_CONFIG,\\n#             discriminator=discriminator,\\n#             generator=generator,\\n#             train_dataloader=train_dataloader,\\n#             valid_dataloader=valid_dataloader,\\n#             device=device,\\n#             save_path=CONFIG[\\\"save_path\\\"],\\n#         )\\n#         run = neptune.init_run(\\n#             project=secret[\\\"neptune_project\\\"],\\n#             api_token=secret[\\\"neptune_token\\\"],\\n#             tags=tags,\\n#         )\\n#         run[\\\"config\\\"] = gan_trainer.config\\n\\n#         for epoch_i in range(GAN_CONFIG[\\\"num_train_epochs\\\"]):\\n#             print(f\\\"== Epoch {epoch_i + 1} / {GAN_CONFIG['num_train_epochs']} ==\\\")\\n#             train_info = gan_trainer.train_epoch(log_env=run)\\n#             result = gan_trainer.validation(log_env=run)\\n#         discriminator.load_state_dict(torch.load(CONFIG[\\\"save_path\\\"]))\\n#         predict_info = gan_trainer.predict(\\n#             discriminator, test_dataloader, label_names=CONFIG[\\\"label_names\\\"]\\n#         )\\n#         run[\\\"test\\\"] = predict_info\\n#         run.stop()\";\n",
       "                var nbb_cells = Jupyter.notebook.get_cells();\n",
       "                for (var i = 0; i < nbb_cells.length; ++i) {\n",
       "                    if (nbb_cells[i].input_prompt_number == nbb_cell_id) {\n",
       "                        if (nbb_cells[i].get_text() == nbb_unformatted_code) {\n",
       "                             nbb_cells[i].set_text(nbb_formatted_code);\n",
       "                        }\n",
       "                        break;\n",
       "                    }\n",
       "                }\n",
       "            }, 500);\n",
       "            "
      ],
      "text/plain": [
       "<IPython.core.display.Javascript object>"
      ]
     },
     "metadata": {},
     "output_type": "display_data"
    }
   ],
   "source": [
    "for per_label in tqdm_notebook([5, 10, 20, 50, 100]):\n",
    "    LABELED_SIZE = CONFIG[\"num_labels\"] * per_label\n",
    "    print(f\"\\n\\n\\n****************{LABELED_SIZE}***********\\n\\n\\n\")\n",
    "\n",
    "    CONFIG[\"per_label_samples\"] = per_label\n",
    "    try:\n",
    "        del discriminator\n",
    "    except:\n",
    "        pass\n",
    "    torch.cuda.empty_cache()\n",
    "    gc.collect()\n",
    "    FULL_SIZE = LABELED_SIZE + UNLABELED_SIZE\n",
    "    multiplier = int(np.log2(FULL_SIZE / LABELED_SIZE)) - 1\n",
    "    multiplier = max(1, multiplier)\n",
    "    print(\"Multiplier:\", multiplier)\n",
    "\n",
    "    tokenized_dataset = prepare_experiment_datasets(\n",
    "        LABELED_SIZE, UNLABELED_SIZE, FULL_SIZE, multiplier\n",
    "    )\n",
    "\n",
    "    train_only_labeled_dataloader = DataLoader(\n",
    "        tokenized_dataset[\"train_only_labeled\"],\n",
    "        batch_size=CONFIG[\"batch_size\"],\n",
    "        sampler=RandomSampler(tokenized_dataset[\"train_only_labeled\"]),\n",
    "        collate_fn=data_collator,\n",
    "        pin_memory=True,\n",
    "    )\n",
    "\n",
    "    train_dataloader = DataLoader(\n",
    "        tokenized_dataset[\"train\"],\n",
    "        batch_size=CONFIG[\"batch_size\"],\n",
    "        sampler=RandomSampler(tokenized_dataset[\"train\"]),\n",
    "        collate_fn=data_collator,\n",
    "        pin_memory=True,\n",
    "    )\n",
    "\n",
    "    valid_dataloader = DataLoader(\n",
    "        tokenized_dataset[\"validation\"],\n",
    "        batch_size=CONFIG[\"batch_size\"],\n",
    "        sampler=SequentialSampler(tokenized_dataset[\"validation\"]),\n",
    "        collate_fn=data_collator,\n",
    "        pin_memory=True,\n",
    "    )\n",
    "\n",
    "    test_dataloader = DataLoader(\n",
    "        tokenized_dataset[\"test\"],\n",
    "        batch_size=32,\n",
    "        sampler=SequentialSampler(tokenized_dataset[\"test\"]),\n",
    "        collate_fn=data_collator,\n",
    "        pin_memory=True,\n",
    "    )\n",
    "    for _ in range(2):\n",
    "        # NO GAN\n",
    "        print(\"NO GAN...\")\n",
    "        try:\n",
    "            del discriminator\n",
    "        except:\n",
    "            pass\n",
    "        torch.cuda.empty_cache()\n",
    "        gc.collect()\n",
    "        BASE_CONFIG = copy(CONFIG)\n",
    "        BASE_CONFIG[\"num_train_examples\"] = len(train_only_labeled_dataloader.dataset)\n",
    "        BASE_CONFIG[\"GAN\"] = False\n",
    "        BASE_CONFIG[\"gan_training\"] = False\n",
    "        BASE_CONFIG[\"LABELED_SIZE\"] = LABELED_SIZE\n",
    "        discriminator = model.DiscriminatorForSequenceClassification(**BASE_CONFIG)\n",
    "        print(discriminator.encoder_name)\n",
    "        trainer = trainer_module.TrainerSequenceClassification(\n",
    "            config=BASE_CONFIG,\n",
    "            discriminator=discriminator,\n",
    "            train_dataloader=train_only_labeled_dataloader,\n",
    "            valid_dataloader=valid_dataloader,\n",
    "            device=device,\n",
    "        )\n",
    "        run = neptune.init_run(\n",
    "            project=secret[\"neptune_project\"],\n",
    "            api_token=secret[\"neptune_token\"],\n",
    "            tags=tags,\n",
    "        )\n",
    "        run[\"config\"] = trainer.config\n",
    "\n",
    "        for epoch_i in range(BASE_CONFIG[\"num_train_epochs\"]):\n",
    "            print(f\"== Epoch {epoch_i + 1} / {BASE_CONFIG['num_train_epochs']} ==\")\n",
    "            train_info = trainer.train_epoch(log_env=run)\n",
    "            valid_metrics = trainer.validation(log_env=run)\n",
    "        predict_info = trainer.predict(\n",
    "            discriminator, test_dataloader, label_names=CONFIG[\"label_names\"]\n",
    "        )\n",
    "        run[\"test\"] = predict_info\n",
    "        run.stop()\n",
    "\n",
    "    for _ in range(NUM_TRIALS_GAN):\n",
    "        # GAN\n",
    "        print(\"GAN...\")\n",
    "        del discriminator\n",
    "        gc.collect()\n",
    "        torch.cuda.empty_cache()\n",
    "        GAN_CONFIG = copy(CONFIG)\n",
    "        GAN_CONFIG[\"GAN\"] = True\n",
    "        GAN_CONFIG[\"gan_training\"] = True\n",
    "        GAN_CONFIG[\"GAN_TYPE\"] = \"dummy\"\n",
    "        GAN_CONFIG[\"LABELED_SIZE\"] = LABELED_SIZE\n",
    "        GAN_CONFIG[\"UNLABELED_SIZE\"] = UNLABELED_SIZE\n",
    "        GAN_CONFIG[\"FULL_SIZE\"] = FULL_SIZE\n",
    "        discriminator = model.DiscriminatorForSequenceClassification(**GAN_CONFIG)\n",
    "        generator = model.SimpleSequenceGenerator(\n",
    "            input_size=CONFIG[\"noise_size\"],\n",
    "            output_size=discriminator.encoder.config.hidden_size,\n",
    "        )\n",
    "\n",
    "        GAN_CONFIG[\"num_train_examples\"] = len(train_dataloader.dataset)\n",
    "        gan_trainer = gan_trainer_module.GANTrainerSequenceClassification(\n",
    "            config=GAN_CONFIG,\n",
    "            discriminator=discriminator,\n",
    "            generator=generator,\n",
    "            train_dataloader=train_dataloader,\n",
    "            valid_dataloader=valid_dataloader,\n",
    "            device=device,\n",
    "            save_path=CONFIG[\"save_path\"],\n",
    "        )\n",
    "        run = neptune.init_run(\n",
    "            project=secret[\"neptune_project\"],\n",
    "            api_token=secret[\"neptune_token\"],\n",
    "            tags=tags,\n",
    "        )\n",
    "        run[\"config\"] = gan_trainer.config\n",
    "\n",
    "        for epoch_i in range(GAN_CONFIG[\"num_train_epochs\"]):\n",
    "            print(f\"== Epoch {epoch_i + 1} / {GAN_CONFIG['num_train_epochs']} ==\")\n",
    "            train_info = gan_trainer.train_epoch(log_env=run)\n",
    "            result = gan_trainer.validation(log_env=run)\n",
    "        discriminator.load_state_dict(torch.load(CONFIG[\"save_path\"]))\n",
    "        predict_info = gan_trainer.predict(\n",
    "            discriminator, test_dataloader, label_names=CONFIG[\"label_names\"]\n",
    "        )\n",
    "        run[\"test\"] = predict_info\n",
    "        run.stop()"
   ]
  }
 ],
 "metadata": {
  "accelerator": "GPU",
  "colab": {
   "provenance": []
  },
  "gpuClass": "standard",
  "kernelspec": {
   "display_name": "Python 3 (ipykernel)",
   "language": "python",
   "name": "python3"
  },
  "language_info": {
   "codemirror_mode": {
    "name": "ipython",
    "version": 3
   },
   "file_extension": ".py",
   "mimetype": "text/x-python",
   "name": "python",
   "nbconvert_exporter": "python",
   "pygments_lexer": "ipython3",
   "version": "3.9.5"
  },
  "toc": {
   "base_numbering": 1,
   "nav_menu": {},
   "number_sections": true,
   "sideBar": true,
   "skip_h1_title": false,
   "title_cell": "Table of Contents",
   "title_sidebar": "Contents",
   "toc_cell": false,
   "toc_position": {},
   "toc_section_display": true,
   "toc_window_display": false
  },
  "widgets": {
   "application/vnd.jupyter.widget-state+json": {
    "057d82523229462a95e9b1109cf97320": {
     "model_module": "@jupyter-widgets/controls",
     "model_module_version": "1.5.0",
     "model_name": "HTMLModel",
     "state": {
      "_dom_classes": [],
      "_model_module": "@jupyter-widgets/controls",
      "_model_module_version": "1.5.0",
      "_model_name": "HTMLModel",
      "_view_count": null,
      "_view_module": "@jupyter-widgets/controls",
      "_view_module_version": "1.5.0",
      "_view_name": "HTMLView",
      "description": "",
      "description_tooltip": null,
      "layout": "IPY_MODEL_b479ea7fa4554fda8a7c8fa83d29a8c6",
      "placeholder": "​",
      "style": "IPY_MODEL_1b1f8bcfd90c468aa6c7b5b6648099f4",
      "value": "Downloading builder script: 100%"
     }
    },
    "092b0c87ac1e4e64a0ec45a39729f6bf": {
     "model_module": "@jupyter-widgets/controls",
     "model_module_version": "1.5.0",
     "model_name": "FloatProgressModel",
     "state": {
      "_dom_classes": [],
      "_model_module": "@jupyter-widgets/controls",
      "_model_module_version": "1.5.0",
      "_model_name": "FloatProgressModel",
      "_view_count": null,
      "_view_module": "@jupyter-widgets/controls",
      "_view_module_version": "1.5.0",
      "_view_name": "ProgressView",
      "bar_style": "info",
      "description": "",
      "description_tooltip": null,
      "layout": "IPY_MODEL_146817e96572498d9a883789bf979afb",
      "max": 1,
      "min": 0,
      "orientation": "horizontal",
      "style": "IPY_MODEL_b2264834500446f18394a7c02d1f1cb3",
      "value": 1
     }
    },
    "0b9f4b9915cd4ff6b850d56dae0000c1": {
     "model_module": "@jupyter-widgets/base",
     "model_module_version": "1.2.0",
     "model_name": "LayoutModel",
     "state": {
      "_model_module": "@jupyter-widgets/base",
      "_model_module_version": "1.2.0",
      "_model_name": "LayoutModel",
      "_view_count": null,
      "_view_module": "@jupyter-widgets/base",
      "_view_module_version": "1.2.0",
      "_view_name": "LayoutView",
      "align_content": null,
      "align_items": null,
      "align_self": null,
      "border": null,
      "bottom": null,
      "display": null,
      "flex": null,
      "flex_flow": null,
      "grid_area": null,
      "grid_auto_columns": null,
      "grid_auto_flow": null,
      "grid_auto_rows": null,
      "grid_column": null,
      "grid_gap": null,
      "grid_row": null,
      "grid_template_areas": null,
      "grid_template_columns": null,
      "grid_template_rows": null,
      "height": null,
      "justify_content": null,
      "justify_items": null,
      "left": null,
      "margin": null,
      "max_height": null,
      "max_width": null,
      "min_height": null,
      "min_width": null,
      "object_fit": null,
      "object_position": null,
      "order": null,
      "overflow": null,
      "overflow_x": null,
      "overflow_y": null,
      "padding": null,
      "right": null,
      "top": null,
      "visibility": null,
      "width": null
     }
    },
    "0ee9a33268c14437a0567dc7fd0b70ea": {
     "model_module": "@jupyter-widgets/controls",
     "model_module_version": "1.5.0",
     "model_name": "ProgressStyleModel",
     "state": {
      "_model_module": "@jupyter-widgets/controls",
      "_model_module_version": "1.5.0",
      "_model_name": "ProgressStyleModel",
      "_view_count": null,
      "_view_module": "@jupyter-widgets/base",
      "_view_module_version": "1.2.0",
      "_view_name": "StyleView",
      "bar_color": null,
      "description_width": ""
     }
    },
    "0f73c181278d477fb801a3f4622633ea": {
     "model_module": "@jupyter-widgets/controls",
     "model_module_version": "1.5.0",
     "model_name": "HBoxModel",
     "state": {
      "_dom_classes": [],
      "_model_module": "@jupyter-widgets/controls",
      "_model_module_version": "1.5.0",
      "_model_name": "HBoxModel",
      "_view_count": null,
      "_view_module": "@jupyter-widgets/controls",
      "_view_module_version": "1.5.0",
      "_view_name": "HBoxView",
      "box_style": "",
      "children": [
       "IPY_MODEL_5fde347dd2fe478ab07585a2c52e166b",
       "IPY_MODEL_940d43d79b584ac6bfd46a935c6d794e",
       "IPY_MODEL_da3619540a1b4019876f2a59bea152a0"
      ],
      "layout": "IPY_MODEL_ef628dce8b044768917cd0e27a1e9b14"
     }
    },
    "10402fb9367a4a2ea9c958c8ad606f98": {
     "model_module": "@jupyter-widgets/controls",
     "model_module_version": "1.5.0",
     "model_name": "DescriptionStyleModel",
     "state": {
      "_model_module": "@jupyter-widgets/controls",
      "_model_module_version": "1.5.0",
      "_model_name": "DescriptionStyleModel",
      "_view_count": null,
      "_view_module": "@jupyter-widgets/base",
      "_view_module_version": "1.2.0",
      "_view_name": "StyleView",
      "description_width": ""
     }
    },
    "146817e96572498d9a883789bf979afb": {
     "model_module": "@jupyter-widgets/base",
     "model_module_version": "1.2.0",
     "model_name": "LayoutModel",
     "state": {
      "_model_module": "@jupyter-widgets/base",
      "_model_module_version": "1.2.0",
      "_model_name": "LayoutModel",
      "_view_count": null,
      "_view_module": "@jupyter-widgets/base",
      "_view_module_version": "1.2.0",
      "_view_name": "LayoutView",
      "align_content": null,
      "align_items": null,
      "align_self": null,
      "border": null,
      "bottom": null,
      "display": null,
      "flex": null,
      "flex_flow": null,
      "grid_area": null,
      "grid_auto_columns": null,
      "grid_auto_flow": null,
      "grid_auto_rows": null,
      "grid_column": null,
      "grid_gap": null,
      "grid_row": null,
      "grid_template_areas": null,
      "grid_template_columns": null,
      "grid_template_rows": null,
      "height": null,
      "justify_content": null,
      "justify_items": null,
      "left": null,
      "margin": null,
      "max_height": null,
      "max_width": null,
      "min_height": null,
      "min_width": null,
      "object_fit": null,
      "object_position": null,
      "order": null,
      "overflow": null,
      "overflow_x": null,
      "overflow_y": null,
      "padding": null,
      "right": null,
      "top": null,
      "visibility": null,
      "width": "20px"
     }
    },
    "18ccab928f6a4310aa06657e3b7a6515": {
     "model_module": "@jupyter-widgets/controls",
     "model_module_version": "1.5.0",
     "model_name": "DescriptionStyleModel",
     "state": {
      "_model_module": "@jupyter-widgets/controls",
      "_model_module_version": "1.5.0",
      "_model_name": "DescriptionStyleModel",
      "_view_count": null,
      "_view_module": "@jupyter-widgets/base",
      "_view_module_version": "1.2.0",
      "_view_name": "StyleView",
      "description_width": ""
     }
    },
    "1b1f8bcfd90c468aa6c7b5b6648099f4": {
     "model_module": "@jupyter-widgets/controls",
     "model_module_version": "1.5.0",
     "model_name": "DescriptionStyleModel",
     "state": {
      "_model_module": "@jupyter-widgets/controls",
      "_model_module_version": "1.5.0",
      "_model_name": "DescriptionStyleModel",
      "_view_count": null,
      "_view_module": "@jupyter-widgets/base",
      "_view_module_version": "1.2.0",
      "_view_name": "StyleView",
      "description_width": ""
     }
    },
    "1dfdb6231e1b4defb97d88a379cb66a3": {
     "model_module": "@jupyter-widgets/base",
     "model_module_version": "1.2.0",
     "model_name": "LayoutModel",
     "state": {
      "_model_module": "@jupyter-widgets/base",
      "_model_module_version": "1.2.0",
      "_model_name": "LayoutModel",
      "_view_count": null,
      "_view_module": "@jupyter-widgets/base",
      "_view_module_version": "1.2.0",
      "_view_name": "LayoutView",
      "align_content": null,
      "align_items": null,
      "align_self": null,
      "border": null,
      "bottom": null,
      "display": null,
      "flex": null,
      "flex_flow": null,
      "grid_area": null,
      "grid_auto_columns": null,
      "grid_auto_flow": null,
      "grid_auto_rows": null,
      "grid_column": null,
      "grid_gap": null,
      "grid_row": null,
      "grid_template_areas": null,
      "grid_template_columns": null,
      "grid_template_rows": null,
      "height": null,
      "justify_content": null,
      "justify_items": null,
      "left": null,
      "margin": null,
      "max_height": null,
      "max_width": null,
      "min_height": null,
      "min_width": null,
      "object_fit": null,
      "object_position": null,
      "order": null,
      "overflow": null,
      "overflow_x": null,
      "overflow_y": null,
      "padding": null,
      "right": null,
      "top": null,
      "visibility": "hidden",
      "width": null
     }
    },
    "2166fd74a3174eda9318d43844afa22a": {
     "model_module": "@jupyter-widgets/base",
     "model_module_version": "1.2.0",
     "model_name": "LayoutModel",
     "state": {
      "_model_module": "@jupyter-widgets/base",
      "_model_module_version": "1.2.0",
      "_model_name": "LayoutModel",
      "_view_count": null,
      "_view_module": "@jupyter-widgets/base",
      "_view_module_version": "1.2.0",
      "_view_name": "LayoutView",
      "align_content": null,
      "align_items": null,
      "align_self": null,
      "border": null,
      "bottom": null,
      "display": null,
      "flex": null,
      "flex_flow": null,
      "grid_area": null,
      "grid_auto_columns": null,
      "grid_auto_flow": null,
      "grid_auto_rows": null,
      "grid_column": null,
      "grid_gap": null,
      "grid_row": null,
      "grid_template_areas": null,
      "grid_template_columns": null,
      "grid_template_rows": null,
      "height": null,
      "justify_content": null,
      "justify_items": null,
      "left": null,
      "margin": null,
      "max_height": null,
      "max_width": null,
      "min_height": null,
      "min_width": null,
      "object_fit": null,
      "object_position": null,
      "order": null,
      "overflow": null,
      "overflow_x": null,
      "overflow_y": null,
      "padding": null,
      "right": null,
      "top": null,
      "visibility": null,
      "width": null
     }
    },
    "23ac7cb793b74fb5844960d8c32e49eb": {
     "model_module": "@jupyter-widgets/base",
     "model_module_version": "1.2.0",
     "model_name": "LayoutModel",
     "state": {
      "_model_module": "@jupyter-widgets/base",
      "_model_module_version": "1.2.0",
      "_model_name": "LayoutModel",
      "_view_count": null,
      "_view_module": "@jupyter-widgets/base",
      "_view_module_version": "1.2.0",
      "_view_name": "LayoutView",
      "align_content": null,
      "align_items": null,
      "align_self": null,
      "border": null,
      "bottom": null,
      "display": null,
      "flex": null,
      "flex_flow": null,
      "grid_area": null,
      "grid_auto_columns": null,
      "grid_auto_flow": null,
      "grid_auto_rows": null,
      "grid_column": null,
      "grid_gap": null,
      "grid_row": null,
      "grid_template_areas": null,
      "grid_template_columns": null,
      "grid_template_rows": null,
      "height": null,
      "justify_content": null,
      "justify_items": null,
      "left": null,
      "margin": null,
      "max_height": null,
      "max_width": null,
      "min_height": null,
      "min_width": null,
      "object_fit": null,
      "object_position": null,
      "order": null,
      "overflow": null,
      "overflow_x": null,
      "overflow_y": null,
      "padding": null,
      "right": null,
      "top": null,
      "visibility": null,
      "width": null
     }
    },
    "2c3b09ab9e264cc693836925621e2753": {
     "model_module": "@jupyter-widgets/controls",
     "model_module_version": "1.5.0",
     "model_name": "HTMLModel",
     "state": {
      "_dom_classes": [],
      "_model_module": "@jupyter-widgets/controls",
      "_model_module_version": "1.5.0",
      "_model_name": "HTMLModel",
      "_view_count": null,
      "_view_module": "@jupyter-widgets/controls",
      "_view_module_version": "1.5.0",
      "_view_name": "HTMLView",
      "description": "",
      "description_tooltip": null,
      "layout": "IPY_MODEL_38b302dbb4b443a58f188db1dc85a02d",
      "placeholder": "​",
      "style": "IPY_MODEL_6534c556bd684ec0a1f3ac196e09be19",
      "value": " 7899/0 [00:00&lt;00:00, 12501.97 examples/s]"
     }
    },
    "2f8583b0a7094651aed3826bba3471c0": {
     "model_module": "@jupyter-widgets/base",
     "model_module_version": "1.2.0",
     "model_name": "LayoutModel",
     "state": {
      "_model_module": "@jupyter-widgets/base",
      "_model_module_version": "1.2.0",
      "_model_name": "LayoutModel",
      "_view_count": null,
      "_view_module": "@jupyter-widgets/base",
      "_view_module_version": "1.2.0",
      "_view_name": "LayoutView",
      "align_content": null,
      "align_items": null,
      "align_self": null,
      "border": null,
      "bottom": null,
      "display": null,
      "flex": null,
      "flex_flow": null,
      "grid_area": null,
      "grid_auto_columns": null,
      "grid_auto_flow": null,
      "grid_auto_rows": null,
      "grid_column": null,
      "grid_gap": null,
      "grid_row": null,
      "grid_template_areas": null,
      "grid_template_columns": null,
      "grid_template_rows": null,
      "height": null,
      "justify_content": null,
      "justify_items": null,
      "left": null,
      "margin": null,
      "max_height": null,
      "max_width": null,
      "min_height": null,
      "min_width": null,
      "object_fit": null,
      "object_position": null,
      "order": null,
      "overflow": null,
      "overflow_x": null,
      "overflow_y": null,
      "padding": null,
      "right": null,
      "top": null,
      "visibility": "hidden",
      "width": null
     }
    },
    "3477a42e3d6a4e888e4cbcc7716558a0": {
     "model_module": "@jupyter-widgets/base",
     "model_module_version": "1.2.0",
     "model_name": "LayoutModel",
     "state": {
      "_model_module": "@jupyter-widgets/base",
      "_model_module_version": "1.2.0",
      "_model_name": "LayoutModel",
      "_view_count": null,
      "_view_module": "@jupyter-widgets/base",
      "_view_module_version": "1.2.0",
      "_view_name": "LayoutView",
      "align_content": null,
      "align_items": null,
      "align_self": null,
      "border": null,
      "bottom": null,
      "display": null,
      "flex": null,
      "flex_flow": null,
      "grid_area": null,
      "grid_auto_columns": null,
      "grid_auto_flow": null,
      "grid_auto_rows": null,
      "grid_column": null,
      "grid_gap": null,
      "grid_row": null,
      "grid_template_areas": null,
      "grid_template_columns": null,
      "grid_template_rows": null,
      "height": null,
      "justify_content": null,
      "justify_items": null,
      "left": null,
      "margin": null,
      "max_height": null,
      "max_width": null,
      "min_height": null,
      "min_width": null,
      "object_fit": null,
      "object_position": null,
      "order": null,
      "overflow": null,
      "overflow_x": null,
      "overflow_y": null,
      "padding": null,
      "right": null,
      "top": null,
      "visibility": null,
      "width": null
     }
    },
    "389d992da85b44feb7108b4f234b2f47": {
     "model_module": "@jupyter-widgets/base",
     "model_module_version": "1.2.0",
     "model_name": "LayoutModel",
     "state": {
      "_model_module": "@jupyter-widgets/base",
      "_model_module_version": "1.2.0",
      "_model_name": "LayoutModel",
      "_view_count": null,
      "_view_module": "@jupyter-widgets/base",
      "_view_module_version": "1.2.0",
      "_view_name": "LayoutView",
      "align_content": null,
      "align_items": null,
      "align_self": null,
      "border": null,
      "bottom": null,
      "display": null,
      "flex": null,
      "flex_flow": null,
      "grid_area": null,
      "grid_auto_columns": null,
      "grid_auto_flow": null,
      "grid_auto_rows": null,
      "grid_column": null,
      "grid_gap": null,
      "grid_row": null,
      "grid_template_areas": null,
      "grid_template_columns": null,
      "grid_template_rows": null,
      "height": null,
      "justify_content": null,
      "justify_items": null,
      "left": null,
      "margin": null,
      "max_height": null,
      "max_width": null,
      "min_height": null,
      "min_width": null,
      "object_fit": null,
      "object_position": null,
      "order": null,
      "overflow": null,
      "overflow_x": null,
      "overflow_y": null,
      "padding": null,
      "right": null,
      "top": null,
      "visibility": null,
      "width": "20px"
     }
    },
    "38b302dbb4b443a58f188db1dc85a02d": {
     "model_module": "@jupyter-widgets/base",
     "model_module_version": "1.2.0",
     "model_name": "LayoutModel",
     "state": {
      "_model_module": "@jupyter-widgets/base",
      "_model_module_version": "1.2.0",
      "_model_name": "LayoutModel",
      "_view_count": null,
      "_view_module": "@jupyter-widgets/base",
      "_view_module_version": "1.2.0",
      "_view_name": "LayoutView",
      "align_content": null,
      "align_items": null,
      "align_self": null,
      "border": null,
      "bottom": null,
      "display": null,
      "flex": null,
      "flex_flow": null,
      "grid_area": null,
      "grid_auto_columns": null,
      "grid_auto_flow": null,
      "grid_auto_rows": null,
      "grid_column": null,
      "grid_gap": null,
      "grid_row": null,
      "grid_template_areas": null,
      "grid_template_columns": null,
      "grid_template_rows": null,
      "height": null,
      "justify_content": null,
      "justify_items": null,
      "left": null,
      "margin": null,
      "max_height": null,
      "max_width": null,
      "min_height": null,
      "min_width": null,
      "object_fit": null,
      "object_position": null,
      "order": null,
      "overflow": null,
      "overflow_x": null,
      "overflow_y": null,
      "padding": null,
      "right": null,
      "top": null,
      "visibility": null,
      "width": null
     }
    },
    "38dcab5bd8dd4291913bf4fbcbc1a9c3": {
     "model_module": "@jupyter-widgets/controls",
     "model_module_version": "1.5.0",
     "model_name": "HTMLModel",
     "state": {
      "_dom_classes": [],
      "_model_module": "@jupyter-widgets/controls",
      "_model_module_version": "1.5.0",
      "_model_name": "HTMLModel",
      "_view_count": null,
      "_view_module": "@jupyter-widgets/controls",
      "_view_module_version": "1.5.0",
      "_view_name": "HTMLView",
      "description": "",
      "description_tooltip": null,
      "layout": "IPY_MODEL_6a5c7d6560404b428bc1649c9b7d9ebd",
      "placeholder": "​",
      "style": "IPY_MODEL_18ccab928f6a4310aa06657e3b7a6515",
      "value": "Generating validation split: "
     }
    },
    "40b2f334bc9947129a9c50d324183ed4": {
     "model_module": "@jupyter-widgets/controls",
     "model_module_version": "1.5.0",
     "model_name": "HTMLModel",
     "state": {
      "_dom_classes": [],
      "_model_module": "@jupyter-widgets/controls",
      "_model_module_version": "1.5.0",
      "_model_name": "HTMLModel",
      "_view_count": null,
      "_view_module": "@jupyter-widgets/controls",
      "_view_module_version": "1.5.0",
      "_view_name": "HTMLView",
      "description": "",
      "description_tooltip": null,
      "layout": "IPY_MODEL_b0f9ba88d2a1483ebf629a1f5fe4fd76",
      "placeholder": "​",
      "style": "IPY_MODEL_f685062de502480c95bcb11f4340e451",
      "value": " 2098/0 [00:00&lt;00:00, 17075.06 examples/s]"
     }
    },
    "4255c55c5ba1416a898fc65184620870": {
     "model_module": "@jupyter-widgets/base",
     "model_module_version": "1.2.0",
     "model_name": "LayoutModel",
     "state": {
      "_model_module": "@jupyter-widgets/base",
      "_model_module_version": "1.2.0",
      "_model_name": "LayoutModel",
      "_view_count": null,
      "_view_module": "@jupyter-widgets/base",
      "_view_module_version": "1.2.0",
      "_view_name": "LayoutView",
      "align_content": null,
      "align_items": null,
      "align_self": null,
      "border": null,
      "bottom": null,
      "display": null,
      "flex": null,
      "flex_flow": null,
      "grid_area": null,
      "grid_auto_columns": null,
      "grid_auto_flow": null,
      "grid_auto_rows": null,
      "grid_column": null,
      "grid_gap": null,
      "grid_row": null,
      "grid_template_areas": null,
      "grid_template_columns": null,
      "grid_template_rows": null,
      "height": null,
      "justify_content": null,
      "justify_items": null,
      "left": null,
      "margin": null,
      "max_height": null,
      "max_width": null,
      "min_height": null,
      "min_width": null,
      "object_fit": null,
      "object_position": null,
      "order": null,
      "overflow": null,
      "overflow_x": null,
      "overflow_y": null,
      "padding": null,
      "right": null,
      "top": null,
      "visibility": "hidden",
      "width": null
     }
    },
    "459877f382bc48b2bad0a7370d829f7a": {
     "model_module": "@jupyter-widgets/controls",
     "model_module_version": "1.5.0",
     "model_name": "HBoxModel",
     "state": {
      "_dom_classes": [],
      "_model_module": "@jupyter-widgets/controls",
      "_model_module_version": "1.5.0",
      "_model_name": "HBoxModel",
      "_view_count": null,
      "_view_module": "@jupyter-widgets/controls",
      "_view_module_version": "1.5.0",
      "_view_name": "HBoxView",
      "box_style": "",
      "children": [
       "IPY_MODEL_057d82523229462a95e9b1109cf97320",
       "IPY_MODEL_b1b775aca21c4a29a53f8a0e881baa42",
       "IPY_MODEL_cc553cbe4bae4351810fc83969623e4d"
      ],
      "layout": "IPY_MODEL_b9ca308fe0af4bde957f4ad172c11b6e"
     }
    },
    "49835814b2484d319ff1a1a1fb9f5a75": {
     "model_module": "@jupyter-widgets/base",
     "model_module_version": "1.2.0",
     "model_name": "LayoutModel",
     "state": {
      "_model_module": "@jupyter-widgets/base",
      "_model_module_version": "1.2.0",
      "_model_name": "LayoutModel",
      "_view_count": null,
      "_view_module": "@jupyter-widgets/base",
      "_view_module_version": "1.2.0",
      "_view_name": "LayoutView",
      "align_content": null,
      "align_items": null,
      "align_self": null,
      "border": null,
      "bottom": null,
      "display": null,
      "flex": null,
      "flex_flow": null,
      "grid_area": null,
      "grid_auto_columns": null,
      "grid_auto_flow": null,
      "grid_auto_rows": null,
      "grid_column": null,
      "grid_gap": null,
      "grid_row": null,
      "grid_template_areas": null,
      "grid_template_columns": null,
      "grid_template_rows": null,
      "height": null,
      "justify_content": null,
      "justify_items": null,
      "left": null,
      "margin": null,
      "max_height": null,
      "max_width": null,
      "min_height": null,
      "min_width": null,
      "object_fit": null,
      "object_position": null,
      "order": null,
      "overflow": null,
      "overflow_x": null,
      "overflow_y": null,
      "padding": null,
      "right": null,
      "top": null,
      "visibility": null,
      "width": null
     }
    },
    "4d69896e95b743239b998e90013ccb09": {
     "model_module": "@jupyter-widgets/controls",
     "model_module_version": "1.5.0",
     "model_name": "HBoxModel",
     "state": {
      "_dom_classes": [],
      "_model_module": "@jupyter-widgets/controls",
      "_model_module_version": "1.5.0",
      "_model_name": "HBoxModel",
      "_view_count": null,
      "_view_module": "@jupyter-widgets/controls",
      "_view_module_version": "1.5.0",
      "_view_name": "HBoxView",
      "box_style": "",
      "children": [
       "IPY_MODEL_8b35ff49fb3c41a28f12d9f453114b6e",
       "IPY_MODEL_c7d9ff295d7347ba9acf84347118e379",
       "IPY_MODEL_e1073ff09aec45be864ae16991f6d420"
      ],
      "layout": "IPY_MODEL_4255c55c5ba1416a898fc65184620870"
     }
    },
    "532fdbd2d1d841e3ba5d849331faef9e": {
     "model_module": "@jupyter-widgets/controls",
     "model_module_version": "1.5.0",
     "model_name": "HTMLModel",
     "state": {
      "_dom_classes": [],
      "_model_module": "@jupyter-widgets/controls",
      "_model_module_version": "1.5.0",
      "_model_name": "HTMLModel",
      "_view_count": null,
      "_view_module": "@jupyter-widgets/controls",
      "_view_module_version": "1.5.0",
      "_view_name": "HTMLView",
      "description": "",
      "description_tooltip": null,
      "layout": "IPY_MODEL_0b9f4b9915cd4ff6b850d56dae0000c1",
      "placeholder": "​",
      "style": "IPY_MODEL_eac62f350b50488e80ed9a48f743eb6a",
      "value": " 6668/0 [00:00&lt;00:00, 17573.01 examples/s]"
     }
    },
    "5fde347dd2fe478ab07585a2c52e166b": {
     "model_module": "@jupyter-widgets/controls",
     "model_module_version": "1.5.0",
     "model_name": "HTMLModel",
     "state": {
      "_dom_classes": [],
      "_model_module": "@jupyter-widgets/controls",
      "_model_module_version": "1.5.0",
      "_model_name": "HTMLModel",
      "_view_count": null,
      "_view_module": "@jupyter-widgets/controls",
      "_view_module_version": "1.5.0",
      "_view_name": "HTMLView",
      "description": "",
      "description_tooltip": null,
      "layout": "IPY_MODEL_2166fd74a3174eda9318d43844afa22a",
      "placeholder": "​",
      "style": "IPY_MODEL_e6074fc93d264308a344b772b2ddc8c2",
      "value": "100%"
     }
    },
    "6118222b09184d76b635f47ee801d6f6": {
     "model_module": "@jupyter-widgets/base",
     "model_module_version": "1.2.0",
     "model_name": "LayoutModel",
     "state": {
      "_model_module": "@jupyter-widgets/base",
      "_model_module_version": "1.2.0",
      "_model_name": "LayoutModel",
      "_view_count": null,
      "_view_module": "@jupyter-widgets/base",
      "_view_module_version": "1.2.0",
      "_view_name": "LayoutView",
      "align_content": null,
      "align_items": null,
      "align_self": null,
      "border": null,
      "bottom": null,
      "display": null,
      "flex": null,
      "flex_flow": null,
      "grid_area": null,
      "grid_auto_columns": null,
      "grid_auto_flow": null,
      "grid_auto_rows": null,
      "grid_column": null,
      "grid_gap": null,
      "grid_row": null,
      "grid_template_areas": null,
      "grid_template_columns": null,
      "grid_template_rows": null,
      "height": null,
      "justify_content": null,
      "justify_items": null,
      "left": null,
      "margin": null,
      "max_height": null,
      "max_width": null,
      "min_height": null,
      "min_width": null,
      "object_fit": null,
      "object_position": null,
      "order": null,
      "overflow": null,
      "overflow_x": null,
      "overflow_y": null,
      "padding": null,
      "right": null,
      "top": null,
      "visibility": null,
      "width": null
     }
    },
    "6534c556bd684ec0a1f3ac196e09be19": {
     "model_module": "@jupyter-widgets/controls",
     "model_module_version": "1.5.0",
     "model_name": "DescriptionStyleModel",
     "state": {
      "_model_module": "@jupyter-widgets/controls",
      "_model_module_version": "1.5.0",
      "_model_name": "DescriptionStyleModel",
      "_view_count": null,
      "_view_module": "@jupyter-widgets/base",
      "_view_module_version": "1.2.0",
      "_view_name": "StyleView",
      "description_width": ""
     }
    },
    "683baeda291040e985becf0cdf92cbfe": {
     "model_module": "@jupyter-widgets/base",
     "model_module_version": "1.2.0",
     "model_name": "LayoutModel",
     "state": {
      "_model_module": "@jupyter-widgets/base",
      "_model_module_version": "1.2.0",
      "_model_name": "LayoutModel",
      "_view_count": null,
      "_view_module": "@jupyter-widgets/base",
      "_view_module_version": "1.2.0",
      "_view_name": "LayoutView",
      "align_content": null,
      "align_items": null,
      "align_self": null,
      "border": null,
      "bottom": null,
      "display": null,
      "flex": null,
      "flex_flow": null,
      "grid_area": null,
      "grid_auto_columns": null,
      "grid_auto_flow": null,
      "grid_auto_rows": null,
      "grid_column": null,
      "grid_gap": null,
      "grid_row": null,
      "grid_template_areas": null,
      "grid_template_columns": null,
      "grid_template_rows": null,
      "height": null,
      "justify_content": null,
      "justify_items": null,
      "left": null,
      "margin": null,
      "max_height": null,
      "max_width": null,
      "min_height": null,
      "min_width": null,
      "object_fit": null,
      "object_position": null,
      "order": null,
      "overflow": null,
      "overflow_x": null,
      "overflow_y": null,
      "padding": null,
      "right": null,
      "top": null,
      "visibility": null,
      "width": null
     }
    },
    "6a5c7d6560404b428bc1649c9b7d9ebd": {
     "model_module": "@jupyter-widgets/base",
     "model_module_version": "1.2.0",
     "model_name": "LayoutModel",
     "state": {
      "_model_module": "@jupyter-widgets/base",
      "_model_module_version": "1.2.0",
      "_model_name": "LayoutModel",
      "_view_count": null,
      "_view_module": "@jupyter-widgets/base",
      "_view_module_version": "1.2.0",
      "_view_name": "LayoutView",
      "align_content": null,
      "align_items": null,
      "align_self": null,
      "border": null,
      "bottom": null,
      "display": null,
      "flex": null,
      "flex_flow": null,
      "grid_area": null,
      "grid_auto_columns": null,
      "grid_auto_flow": null,
      "grid_auto_rows": null,
      "grid_column": null,
      "grid_gap": null,
      "grid_row": null,
      "grid_template_areas": null,
      "grid_template_columns": null,
      "grid_template_rows": null,
      "height": null,
      "justify_content": null,
      "justify_items": null,
      "left": null,
      "margin": null,
      "max_height": null,
      "max_width": null,
      "min_height": null,
      "min_width": null,
      "object_fit": null,
      "object_position": null,
      "order": null,
      "overflow": null,
      "overflow_x": null,
      "overflow_y": null,
      "padding": null,
      "right": null,
      "top": null,
      "visibility": null,
      "width": null
     }
    },
    "75f0820c8d0e49ce9b3923fcfcfc223c": {
     "model_module": "@jupyter-widgets/base",
     "model_module_version": "1.2.0",
     "model_name": "LayoutModel",
     "state": {
      "_model_module": "@jupyter-widgets/base",
      "_model_module_version": "1.2.0",
      "_model_name": "LayoutModel",
      "_view_count": null,
      "_view_module": "@jupyter-widgets/base",
      "_view_module_version": "1.2.0",
      "_view_name": "LayoutView",
      "align_content": null,
      "align_items": null,
      "align_self": null,
      "border": null,
      "bottom": null,
      "display": null,
      "flex": null,
      "flex_flow": null,
      "grid_area": null,
      "grid_auto_columns": null,
      "grid_auto_flow": null,
      "grid_auto_rows": null,
      "grid_column": null,
      "grid_gap": null,
      "grid_row": null,
      "grid_template_areas": null,
      "grid_template_columns": null,
      "grid_template_rows": null,
      "height": null,
      "justify_content": null,
      "justify_items": null,
      "left": null,
      "margin": null,
      "max_height": null,
      "max_width": null,
      "min_height": null,
      "min_width": null,
      "object_fit": null,
      "object_position": null,
      "order": null,
      "overflow": null,
      "overflow_x": null,
      "overflow_y": null,
      "padding": null,
      "right": null,
      "top": null,
      "visibility": null,
      "width": null
     }
    },
    "786df9a300b146cebff200e5007a7dac": {
     "model_module": "@jupyter-widgets/controls",
     "model_module_version": "1.5.0",
     "model_name": "DescriptionStyleModel",
     "state": {
      "_model_module": "@jupyter-widgets/controls",
      "_model_module_version": "1.5.0",
      "_model_name": "DescriptionStyleModel",
      "_view_count": null,
      "_view_module": "@jupyter-widgets/base",
      "_view_module_version": "1.2.0",
      "_view_name": "StyleView",
      "description_width": ""
     }
    },
    "790bb2452a634af1aa52742136e848de": {
     "model_module": "@jupyter-widgets/controls",
     "model_module_version": "1.5.0",
     "model_name": "ProgressStyleModel",
     "state": {
      "_model_module": "@jupyter-widgets/controls",
      "_model_module_version": "1.5.0",
      "_model_name": "ProgressStyleModel",
      "_view_count": null,
      "_view_module": "@jupyter-widgets/base",
      "_view_module_version": "1.2.0",
      "_view_name": "StyleView",
      "bar_color": null,
      "description_width": ""
     }
    },
    "794891480351482e8579c3cf4346926f": {
     "model_module": "@jupyter-widgets/controls",
     "model_module_version": "1.5.0",
     "model_name": "FloatProgressModel",
     "state": {
      "_dom_classes": [],
      "_model_module": "@jupyter-widgets/controls",
      "_model_module_version": "1.5.0",
      "_model_name": "FloatProgressModel",
      "_view_count": null,
      "_view_module": "@jupyter-widgets/controls",
      "_view_module_version": "1.5.0",
      "_view_name": "ProgressView",
      "bar_style": "info",
      "description": "",
      "description_tooltip": null,
      "layout": "IPY_MODEL_e8b2dd5e08314fb18d17435ef1560f17",
      "max": 1,
      "min": 0,
      "orientation": "horizontal",
      "style": "IPY_MODEL_790bb2452a634af1aa52742136e848de",
      "value": 1
     }
    },
    "8b35ff49fb3c41a28f12d9f453114b6e": {
     "model_module": "@jupyter-widgets/controls",
     "model_module_version": "1.5.0",
     "model_name": "HTMLModel",
     "state": {
      "_dom_classes": [],
      "_model_module": "@jupyter-widgets/controls",
      "_model_module_version": "1.5.0",
      "_model_name": "HTMLModel",
      "_view_count": null,
      "_view_module": "@jupyter-widgets/controls",
      "_view_module_version": "1.5.0",
      "_view_name": "HTMLView",
      "description": "",
      "description_tooltip": null,
      "layout": "IPY_MODEL_23ac7cb793b74fb5844960d8c32e49eb",
      "placeholder": "​",
      "style": "IPY_MODEL_c47cde5f7b7e45bbba223e235bbd59f9",
      "value": "Map: 100%"
     }
    },
    "9235fbef5bcd471a9906f7c8370a6618": {
     "model_module": "@jupyter-widgets/controls",
     "model_module_version": "1.5.0",
     "model_name": "DescriptionStyleModel",
     "state": {
      "_model_module": "@jupyter-widgets/controls",
      "_model_module_version": "1.5.0",
      "_model_name": "DescriptionStyleModel",
      "_view_count": null,
      "_view_module": "@jupyter-widgets/base",
      "_view_module_version": "1.2.0",
      "_view_name": "StyleView",
      "description_width": ""
     }
    },
    "940d43d79b584ac6bfd46a935c6d794e": {
     "model_module": "@jupyter-widgets/controls",
     "model_module_version": "1.5.0",
     "model_name": "FloatProgressModel",
     "state": {
      "_dom_classes": [],
      "_model_module": "@jupyter-widgets/controls",
      "_model_module_version": "1.5.0",
      "_model_name": "FloatProgressModel",
      "_view_count": null,
      "_view_module": "@jupyter-widgets/controls",
      "_view_module_version": "1.5.0",
      "_view_name": "ProgressView",
      "bar_style": "success",
      "description": "",
      "description_tooltip": null,
      "layout": "IPY_MODEL_683baeda291040e985becf0cdf92cbfe",
      "max": 3,
      "min": 0,
      "orientation": "horizontal",
      "style": "IPY_MODEL_dc6d42f90cc34fac9fac44519d092882",
      "value": 3
     }
    },
    "a56281d3b8494241841e03549df86c92": {
     "model_module": "@jupyter-widgets/base",
     "model_module_version": "1.2.0",
     "model_name": "LayoutModel",
     "state": {
      "_model_module": "@jupyter-widgets/base",
      "_model_module_version": "1.2.0",
      "_model_name": "LayoutModel",
      "_view_count": null,
      "_view_module": "@jupyter-widgets/base",
      "_view_module_version": "1.2.0",
      "_view_name": "LayoutView",
      "align_content": null,
      "align_items": null,
      "align_self": null,
      "border": null,
      "bottom": null,
      "display": null,
      "flex": null,
      "flex_flow": null,
      "grid_area": null,
      "grid_auto_columns": null,
      "grid_auto_flow": null,
      "grid_auto_rows": null,
      "grid_column": null,
      "grid_gap": null,
      "grid_row": null,
      "grid_template_areas": null,
      "grid_template_columns": null,
      "grid_template_rows": null,
      "height": null,
      "justify_content": null,
      "justify_items": null,
      "left": null,
      "margin": null,
      "max_height": null,
      "max_width": null,
      "min_height": null,
      "min_width": null,
      "object_fit": null,
      "object_position": null,
      "order": null,
      "overflow": null,
      "overflow_x": null,
      "overflow_y": null,
      "padding": null,
      "right": null,
      "top": null,
      "visibility": "hidden",
      "width": null
     }
    },
    "ac272a725b734a00958a56ab128118d9": {
     "model_module": "@jupyter-widgets/base",
     "model_module_version": "1.2.0",
     "model_name": "LayoutModel",
     "state": {
      "_model_module": "@jupyter-widgets/base",
      "_model_module_version": "1.2.0",
      "_model_name": "LayoutModel",
      "_view_count": null,
      "_view_module": "@jupyter-widgets/base",
      "_view_module_version": "1.2.0",
      "_view_name": "LayoutView",
      "align_content": null,
      "align_items": null,
      "align_self": null,
      "border": null,
      "bottom": null,
      "display": null,
      "flex": null,
      "flex_flow": null,
      "grid_area": null,
      "grid_auto_columns": null,
      "grid_auto_flow": null,
      "grid_auto_rows": null,
      "grid_column": null,
      "grid_gap": null,
      "grid_row": null,
      "grid_template_areas": null,
      "grid_template_columns": null,
      "grid_template_rows": null,
      "height": null,
      "justify_content": null,
      "justify_items": null,
      "left": null,
      "margin": null,
      "max_height": null,
      "max_width": null,
      "min_height": null,
      "min_width": null,
      "object_fit": null,
      "object_position": null,
      "order": null,
      "overflow": null,
      "overflow_x": null,
      "overflow_y": null,
      "padding": null,
      "right": null,
      "top": null,
      "visibility": null,
      "width": null
     }
    },
    "ad943cc7de094f38ad16ebfa6686c806": {
     "model_module": "@jupyter-widgets/controls",
     "model_module_version": "1.5.0",
     "model_name": "ProgressStyleModel",
     "state": {
      "_model_module": "@jupyter-widgets/controls",
      "_model_module_version": "1.5.0",
      "_model_name": "ProgressStyleModel",
      "_view_count": null,
      "_view_module": "@jupyter-widgets/base",
      "_view_module_version": "1.2.0",
      "_view_name": "StyleView",
      "bar_color": null,
      "description_width": ""
     }
    },
    "aedc3698039447608683bd3b14de30c1": {
     "model_module": "@jupyter-widgets/controls",
     "model_module_version": "1.5.0",
     "model_name": "DescriptionStyleModel",
     "state": {
      "_model_module": "@jupyter-widgets/controls",
      "_model_module_version": "1.5.0",
      "_model_name": "DescriptionStyleModel",
      "_view_count": null,
      "_view_module": "@jupyter-widgets/base",
      "_view_module_version": "1.2.0",
      "_view_name": "StyleView",
      "description_width": ""
     }
    },
    "b0f9ba88d2a1483ebf629a1f5fe4fd76": {
     "model_module": "@jupyter-widgets/base",
     "model_module_version": "1.2.0",
     "model_name": "LayoutModel",
     "state": {
      "_model_module": "@jupyter-widgets/base",
      "_model_module_version": "1.2.0",
      "_model_name": "LayoutModel",
      "_view_count": null,
      "_view_module": "@jupyter-widgets/base",
      "_view_module_version": "1.2.0",
      "_view_name": "LayoutView",
      "align_content": null,
      "align_items": null,
      "align_self": null,
      "border": null,
      "bottom": null,
      "display": null,
      "flex": null,
      "flex_flow": null,
      "grid_area": null,
      "grid_auto_columns": null,
      "grid_auto_flow": null,
      "grid_auto_rows": null,
      "grid_column": null,
      "grid_gap": null,
      "grid_row": null,
      "grid_template_areas": null,
      "grid_template_columns": null,
      "grid_template_rows": null,
      "height": null,
      "justify_content": null,
      "justify_items": null,
      "left": null,
      "margin": null,
      "max_height": null,
      "max_width": null,
      "min_height": null,
      "min_width": null,
      "object_fit": null,
      "object_position": null,
      "order": null,
      "overflow": null,
      "overflow_x": null,
      "overflow_y": null,
      "padding": null,
      "right": null,
      "top": null,
      "visibility": null,
      "width": null
     }
    },
    "b1b775aca21c4a29a53f8a0e881baa42": {
     "model_module": "@jupyter-widgets/controls",
     "model_module_version": "1.5.0",
     "model_name": "FloatProgressModel",
     "state": {
      "_dom_classes": [],
      "_model_module": "@jupyter-widgets/controls",
      "_model_module_version": "1.5.0",
      "_model_name": "FloatProgressModel",
      "_view_count": null,
      "_view_module": "@jupyter-widgets/controls",
      "_view_module_version": "1.5.0",
      "_view_name": "ProgressView",
      "bar_style": "success",
      "description": "",
      "description_tooltip": null,
      "layout": "IPY_MODEL_75f0820c8d0e49ce9b3923fcfcfc223c",
      "max": 3105,
      "min": 0,
      "orientation": "horizontal",
      "style": "IPY_MODEL_eb3f0ef248e84f8eaea144e42451b18e",
      "value": 3105
     }
    },
    "b2264834500446f18394a7c02d1f1cb3": {
     "model_module": "@jupyter-widgets/controls",
     "model_module_version": "1.5.0",
     "model_name": "ProgressStyleModel",
     "state": {
      "_model_module": "@jupyter-widgets/controls",
      "_model_module_version": "1.5.0",
      "_model_name": "ProgressStyleModel",
      "_view_count": null,
      "_view_module": "@jupyter-widgets/base",
      "_view_module_version": "1.2.0",
      "_view_name": "StyleView",
      "bar_color": null,
      "description_width": ""
     }
    },
    "b479ea7fa4554fda8a7c8fa83d29a8c6": {
     "model_module": "@jupyter-widgets/base",
     "model_module_version": "1.2.0",
     "model_name": "LayoutModel",
     "state": {
      "_model_module": "@jupyter-widgets/base",
      "_model_module_version": "1.2.0",
      "_model_name": "LayoutModel",
      "_view_count": null,
      "_view_module": "@jupyter-widgets/base",
      "_view_module_version": "1.2.0",
      "_view_name": "LayoutView",
      "align_content": null,
      "align_items": null,
      "align_self": null,
      "border": null,
      "bottom": null,
      "display": null,
      "flex": null,
      "flex_flow": null,
      "grid_area": null,
      "grid_auto_columns": null,
      "grid_auto_flow": null,
      "grid_auto_rows": null,
      "grid_column": null,
      "grid_gap": null,
      "grid_row": null,
      "grid_template_areas": null,
      "grid_template_columns": null,
      "grid_template_rows": null,
      "height": null,
      "justify_content": null,
      "justify_items": null,
      "left": null,
      "margin": null,
      "max_height": null,
      "max_width": null,
      "min_height": null,
      "min_width": null,
      "object_fit": null,
      "object_position": null,
      "order": null,
      "overflow": null,
      "overflow_x": null,
      "overflow_y": null,
      "padding": null,
      "right": null,
      "top": null,
      "visibility": null,
      "width": null
     }
    },
    "b7695f86b06a46e99ba3eb540703f0e5": {
     "model_module": "@jupyter-widgets/controls",
     "model_module_version": "1.5.0",
     "model_name": "FloatProgressModel",
     "state": {
      "_dom_classes": [],
      "_model_module": "@jupyter-widgets/controls",
      "_model_module_version": "1.5.0",
      "_model_name": "FloatProgressModel",
      "_view_count": null,
      "_view_module": "@jupyter-widgets/controls",
      "_view_module_version": "1.5.0",
      "_view_name": "ProgressView",
      "bar_style": "info",
      "description": "",
      "description_tooltip": null,
      "layout": "IPY_MODEL_389d992da85b44feb7108b4f234b2f47",
      "max": 1,
      "min": 0,
      "orientation": "horizontal",
      "style": "IPY_MODEL_ad943cc7de094f38ad16ebfa6686c806",
      "value": 1
     }
    },
    "b9089749338a4a029067a203a1f4402f": {
     "model_module": "@jupyter-widgets/controls",
     "model_module_version": "1.5.0",
     "model_name": "HTMLModel",
     "state": {
      "_dom_classes": [],
      "_model_module": "@jupyter-widgets/controls",
      "_model_module_version": "1.5.0",
      "_model_name": "HTMLModel",
      "_view_count": null,
      "_view_module": "@jupyter-widgets/controls",
      "_view_module_version": "1.5.0",
      "_view_name": "HTMLView",
      "description": "",
      "description_tooltip": null,
      "layout": "IPY_MODEL_e7b628fbef6442e6a64520fdaeb5643b",
      "placeholder": "​",
      "style": "IPY_MODEL_786df9a300b146cebff200e5007a7dac",
      "value": "Generating train split: "
     }
    },
    "b9ca308fe0af4bde957f4ad172c11b6e": {
     "model_module": "@jupyter-widgets/base",
     "model_module_version": "1.2.0",
     "model_name": "LayoutModel",
     "state": {
      "_model_module": "@jupyter-widgets/base",
      "_model_module_version": "1.2.0",
      "_model_name": "LayoutModel",
      "_view_count": null,
      "_view_module": "@jupyter-widgets/base",
      "_view_module_version": "1.2.0",
      "_view_name": "LayoutView",
      "align_content": null,
      "align_items": null,
      "align_self": null,
      "border": null,
      "bottom": null,
      "display": null,
      "flex": null,
      "flex_flow": null,
      "grid_area": null,
      "grid_auto_columns": null,
      "grid_auto_flow": null,
      "grid_auto_rows": null,
      "grid_column": null,
      "grid_gap": null,
      "grid_row": null,
      "grid_template_areas": null,
      "grid_template_columns": null,
      "grid_template_rows": null,
      "height": null,
      "justify_content": null,
      "justify_items": null,
      "left": null,
      "margin": null,
      "max_height": null,
      "max_width": null,
      "min_height": null,
      "min_width": null,
      "object_fit": null,
      "object_position": null,
      "order": null,
      "overflow": null,
      "overflow_x": null,
      "overflow_y": null,
      "padding": null,
      "right": null,
      "top": null,
      "visibility": null,
      "width": null
     }
    },
    "c010e31940bc49d5bee6233b5415bdf0": {
     "model_module": "@jupyter-widgets/controls",
     "model_module_version": "1.5.0",
     "model_name": "HBoxModel",
     "state": {
      "_dom_classes": [],
      "_model_module": "@jupyter-widgets/controls",
      "_model_module_version": "1.5.0",
      "_model_name": "HBoxModel",
      "_view_count": null,
      "_view_module": "@jupyter-widgets/controls",
      "_view_module_version": "1.5.0",
      "_view_name": "HBoxView",
      "box_style": "",
      "children": [
       "IPY_MODEL_b9089749338a4a029067a203a1f4402f",
       "IPY_MODEL_794891480351482e8579c3cf4346926f",
       "IPY_MODEL_2c3b09ab9e264cc693836925621e2753"
      ],
      "layout": "IPY_MODEL_2f8583b0a7094651aed3826bba3471c0"
     }
    },
    "c47cde5f7b7e45bbba223e235bbd59f9": {
     "model_module": "@jupyter-widgets/controls",
     "model_module_version": "1.5.0",
     "model_name": "DescriptionStyleModel",
     "state": {
      "_model_module": "@jupyter-widgets/controls",
      "_model_module_version": "1.5.0",
      "_model_name": "DescriptionStyleModel",
      "_view_count": null,
      "_view_module": "@jupyter-widgets/base",
      "_view_module_version": "1.2.0",
      "_view_name": "StyleView",
      "description_width": ""
     }
    },
    "c7d9ff295d7347ba9acf84347118e379": {
     "model_module": "@jupyter-widgets/controls",
     "model_module_version": "1.5.0",
     "model_name": "FloatProgressModel",
     "state": {
      "_dom_classes": [],
      "_model_module": "@jupyter-widgets/controls",
      "_model_module_version": "1.5.0",
      "_model_name": "FloatProgressModel",
      "_view_count": null,
      "_view_module": "@jupyter-widgets/controls",
      "_view_module_version": "1.5.0",
      "_view_name": "ProgressView",
      "bar_style": "",
      "description": "",
      "description_tooltip": null,
      "layout": "IPY_MODEL_ebaa45774b7c49d3843f48a6fe588ec9",
      "max": 7532,
      "min": 0,
      "orientation": "horizontal",
      "style": "IPY_MODEL_0ee9a33268c14437a0567dc7fd0b70ea",
      "value": 7532
     }
    },
    "cc553cbe4bae4351810fc83969623e4d": {
     "model_module": "@jupyter-widgets/controls",
     "model_module_version": "1.5.0",
     "model_name": "HTMLModel",
     "state": {
      "_dom_classes": [],
      "_model_module": "@jupyter-widgets/controls",
      "_model_module_version": "1.5.0",
      "_model_name": "HTMLModel",
      "_view_count": null,
      "_view_module": "@jupyter-widgets/controls",
      "_view_module_version": "1.5.0",
      "_view_name": "HTMLView",
      "description": "",
      "description_tooltip": null,
      "layout": "IPY_MODEL_3477a42e3d6a4e888e4cbcc7716558a0",
      "placeholder": "​",
      "style": "IPY_MODEL_10402fb9367a4a2ea9c958c8ad606f98",
      "value": " 3.10k/3.10k [00:00&lt;00:00, 119kB/s]"
     }
    },
    "cef72993a2ce474f85fc96106d788bd4": {
     "model_module": "@jupyter-widgets/controls",
     "model_module_version": "1.5.0",
     "model_name": "DescriptionStyleModel",
     "state": {
      "_model_module": "@jupyter-widgets/controls",
      "_model_module_version": "1.5.0",
      "_model_name": "DescriptionStyleModel",
      "_view_count": null,
      "_view_module": "@jupyter-widgets/base",
      "_view_module_version": "1.2.0",
      "_view_name": "StyleView",
      "description_width": ""
     }
    },
    "d85b0a23e1ef486d9457789922e07143": {
     "model_module": "@jupyter-widgets/controls",
     "model_module_version": "1.5.0",
     "model_name": "HBoxModel",
     "state": {
      "_dom_classes": [],
      "_model_module": "@jupyter-widgets/controls",
      "_model_module_version": "1.5.0",
      "_model_name": "HBoxModel",
      "_view_count": null,
      "_view_module": "@jupyter-widgets/controls",
      "_view_module_version": "1.5.0",
      "_view_name": "HBoxView",
      "box_style": "",
      "children": [
       "IPY_MODEL_38dcab5bd8dd4291913bf4fbcbc1a9c3",
       "IPY_MODEL_092b0c87ac1e4e64a0ec45a39729f6bf",
       "IPY_MODEL_40b2f334bc9947129a9c50d324183ed4"
      ],
      "layout": "IPY_MODEL_1dfdb6231e1b4defb97d88a379cb66a3"
     }
    },
    "da3619540a1b4019876f2a59bea152a0": {
     "model_module": "@jupyter-widgets/controls",
     "model_module_version": "1.5.0",
     "model_name": "HTMLModel",
     "state": {
      "_dom_classes": [],
      "_model_module": "@jupyter-widgets/controls",
      "_model_module_version": "1.5.0",
      "_model_name": "HTMLModel",
      "_view_count": null,
      "_view_module": "@jupyter-widgets/controls",
      "_view_module_version": "1.5.0",
      "_view_name": "HTMLView",
      "description": "",
      "description_tooltip": null,
      "layout": "IPY_MODEL_49835814b2484d319ff1a1a1fb9f5a75",
      "placeholder": "​",
      "style": "IPY_MODEL_9235fbef5bcd471a9906f7c8370a6618",
      "value": " 3/3 [00:00&lt;00:00, 129.04it/s]"
     }
    },
    "dc6d42f90cc34fac9fac44519d092882": {
     "model_module": "@jupyter-widgets/controls",
     "model_module_version": "1.5.0",
     "model_name": "ProgressStyleModel",
     "state": {
      "_model_module": "@jupyter-widgets/controls",
      "_model_module_version": "1.5.0",
      "_model_name": "ProgressStyleModel",
      "_view_count": null,
      "_view_module": "@jupyter-widgets/base",
      "_view_module_version": "1.2.0",
      "_view_name": "StyleView",
      "bar_color": null,
      "description_width": ""
     }
    },
    "e1073ff09aec45be864ae16991f6d420": {
     "model_module": "@jupyter-widgets/controls",
     "model_module_version": "1.5.0",
     "model_name": "HTMLModel",
     "state": {
      "_dom_classes": [],
      "_model_module": "@jupyter-widgets/controls",
      "_model_module_version": "1.5.0",
      "_model_name": "HTMLModel",
      "_view_count": null,
      "_view_module": "@jupyter-widgets/controls",
      "_view_module_version": "1.5.0",
      "_view_name": "HTMLView",
      "description": "",
      "description_tooltip": null,
      "layout": "IPY_MODEL_ac272a725b734a00958a56ab128118d9",
      "placeholder": "​",
      "style": "IPY_MODEL_aedc3698039447608683bd3b14de30c1",
      "value": " 7532/7532 [00:18&lt;00:00, 457.50 examples/s]"
     }
    },
    "e6074fc93d264308a344b772b2ddc8c2": {
     "model_module": "@jupyter-widgets/controls",
     "model_module_version": "1.5.0",
     "model_name": "DescriptionStyleModel",
     "state": {
      "_model_module": "@jupyter-widgets/controls",
      "_model_module_version": "1.5.0",
      "_model_name": "DescriptionStyleModel",
      "_view_count": null,
      "_view_module": "@jupyter-widgets/base",
      "_view_module_version": "1.2.0",
      "_view_name": "StyleView",
      "description_width": ""
     }
    },
    "e7b628fbef6442e6a64520fdaeb5643b": {
     "model_module": "@jupyter-widgets/base",
     "model_module_version": "1.2.0",
     "model_name": "LayoutModel",
     "state": {
      "_model_module": "@jupyter-widgets/base",
      "_model_module_version": "1.2.0",
      "_model_name": "LayoutModel",
      "_view_count": null,
      "_view_module": "@jupyter-widgets/base",
      "_view_module_version": "1.2.0",
      "_view_name": "LayoutView",
      "align_content": null,
      "align_items": null,
      "align_self": null,
      "border": null,
      "bottom": null,
      "display": null,
      "flex": null,
      "flex_flow": null,
      "grid_area": null,
      "grid_auto_columns": null,
      "grid_auto_flow": null,
      "grid_auto_rows": null,
      "grid_column": null,
      "grid_gap": null,
      "grid_row": null,
      "grid_template_areas": null,
      "grid_template_columns": null,
      "grid_template_rows": null,
      "height": null,
      "justify_content": null,
      "justify_items": null,
      "left": null,
      "margin": null,
      "max_height": null,
      "max_width": null,
      "min_height": null,
      "min_width": null,
      "object_fit": null,
      "object_position": null,
      "order": null,
      "overflow": null,
      "overflow_x": null,
      "overflow_y": null,
      "padding": null,
      "right": null,
      "top": null,
      "visibility": null,
      "width": null
     }
    },
    "e8b2dd5e08314fb18d17435ef1560f17": {
     "model_module": "@jupyter-widgets/base",
     "model_module_version": "1.2.0",
     "model_name": "LayoutModel",
     "state": {
      "_model_module": "@jupyter-widgets/base",
      "_model_module_version": "1.2.0",
      "_model_name": "LayoutModel",
      "_view_count": null,
      "_view_module": "@jupyter-widgets/base",
      "_view_module_version": "1.2.0",
      "_view_name": "LayoutView",
      "align_content": null,
      "align_items": null,
      "align_self": null,
      "border": null,
      "bottom": null,
      "display": null,
      "flex": null,
      "flex_flow": null,
      "grid_area": null,
      "grid_auto_columns": null,
      "grid_auto_flow": null,
      "grid_auto_rows": null,
      "grid_column": null,
      "grid_gap": null,
      "grid_row": null,
      "grid_template_areas": null,
      "grid_template_columns": null,
      "grid_template_rows": null,
      "height": null,
      "justify_content": null,
      "justify_items": null,
      "left": null,
      "margin": null,
      "max_height": null,
      "max_width": null,
      "min_height": null,
      "min_width": null,
      "object_fit": null,
      "object_position": null,
      "order": null,
      "overflow": null,
      "overflow_x": null,
      "overflow_y": null,
      "padding": null,
      "right": null,
      "top": null,
      "visibility": null,
      "width": "20px"
     }
    },
    "eac62f350b50488e80ed9a48f743eb6a": {
     "model_module": "@jupyter-widgets/controls",
     "model_module_version": "1.5.0",
     "model_name": "DescriptionStyleModel",
     "state": {
      "_model_module": "@jupyter-widgets/controls",
      "_model_module_version": "1.5.0",
      "_model_name": "DescriptionStyleModel",
      "_view_count": null,
      "_view_module": "@jupyter-widgets/base",
      "_view_module_version": "1.2.0",
      "_view_name": "StyleView",
      "description_width": ""
     }
    },
    "eb3f0ef248e84f8eaea144e42451b18e": {
     "model_module": "@jupyter-widgets/controls",
     "model_module_version": "1.5.0",
     "model_name": "ProgressStyleModel",
     "state": {
      "_model_module": "@jupyter-widgets/controls",
      "_model_module_version": "1.5.0",
      "_model_name": "ProgressStyleModel",
      "_view_count": null,
      "_view_module": "@jupyter-widgets/base",
      "_view_module_version": "1.2.0",
      "_view_name": "StyleView",
      "bar_color": null,
      "description_width": ""
     }
    },
    "ebaa45774b7c49d3843f48a6fe588ec9": {
     "model_module": "@jupyter-widgets/base",
     "model_module_version": "1.2.0",
     "model_name": "LayoutModel",
     "state": {
      "_model_module": "@jupyter-widgets/base",
      "_model_module_version": "1.2.0",
      "_model_name": "LayoutModel",
      "_view_count": null,
      "_view_module": "@jupyter-widgets/base",
      "_view_module_version": "1.2.0",
      "_view_name": "LayoutView",
      "align_content": null,
      "align_items": null,
      "align_self": null,
      "border": null,
      "bottom": null,
      "display": null,
      "flex": null,
      "flex_flow": null,
      "grid_area": null,
      "grid_auto_columns": null,
      "grid_auto_flow": null,
      "grid_auto_rows": null,
      "grid_column": null,
      "grid_gap": null,
      "grid_row": null,
      "grid_template_areas": null,
      "grid_template_columns": null,
      "grid_template_rows": null,
      "height": null,
      "justify_content": null,
      "justify_items": null,
      "left": null,
      "margin": null,
      "max_height": null,
      "max_width": null,
      "min_height": null,
      "min_width": null,
      "object_fit": null,
      "object_position": null,
      "order": null,
      "overflow": null,
      "overflow_x": null,
      "overflow_y": null,
      "padding": null,
      "right": null,
      "top": null,
      "visibility": null,
      "width": null
     }
    },
    "eefc3485e2964137a2c0c3df8486ebad": {
     "model_module": "@jupyter-widgets/controls",
     "model_module_version": "1.5.0",
     "model_name": "HBoxModel",
     "state": {
      "_dom_classes": [],
      "_model_module": "@jupyter-widgets/controls",
      "_model_module_version": "1.5.0",
      "_model_name": "HBoxModel",
      "_view_count": null,
      "_view_module": "@jupyter-widgets/controls",
      "_view_module_version": "1.5.0",
      "_view_name": "HBoxView",
      "box_style": "",
      "children": [
       "IPY_MODEL_f4547338886d4d1d86996e31c98aea3c",
       "IPY_MODEL_b7695f86b06a46e99ba3eb540703f0e5",
       "IPY_MODEL_532fdbd2d1d841e3ba5d849331faef9e"
      ],
      "layout": "IPY_MODEL_a56281d3b8494241841e03549df86c92"
     }
    },
    "ef628dce8b044768917cd0e27a1e9b14": {
     "model_module": "@jupyter-widgets/base",
     "model_module_version": "1.2.0",
     "model_name": "LayoutModel",
     "state": {
      "_model_module": "@jupyter-widgets/base",
      "_model_module_version": "1.2.0",
      "_model_name": "LayoutModel",
      "_view_count": null,
      "_view_module": "@jupyter-widgets/base",
      "_view_module_version": "1.2.0",
      "_view_name": "LayoutView",
      "align_content": null,
      "align_items": null,
      "align_self": null,
      "border": null,
      "bottom": null,
      "display": null,
      "flex": null,
      "flex_flow": null,
      "grid_area": null,
      "grid_auto_columns": null,
      "grid_auto_flow": null,
      "grid_auto_rows": null,
      "grid_column": null,
      "grid_gap": null,
      "grid_row": null,
      "grid_template_areas": null,
      "grid_template_columns": null,
      "grid_template_rows": null,
      "height": null,
      "justify_content": null,
      "justify_items": null,
      "left": null,
      "margin": null,
      "max_height": null,
      "max_width": null,
      "min_height": null,
      "min_width": null,
      "object_fit": null,
      "object_position": null,
      "order": null,
      "overflow": null,
      "overflow_x": null,
      "overflow_y": null,
      "padding": null,
      "right": null,
      "top": null,
      "visibility": null,
      "width": null
     }
    },
    "f4547338886d4d1d86996e31c98aea3c": {
     "model_module": "@jupyter-widgets/controls",
     "model_module_version": "1.5.0",
     "model_name": "HTMLModel",
     "state": {
      "_dom_classes": [],
      "_model_module": "@jupyter-widgets/controls",
      "_model_module_version": "1.5.0",
      "_model_name": "HTMLModel",
      "_view_count": null,
      "_view_module": "@jupyter-widgets/controls",
      "_view_module_version": "1.5.0",
      "_view_name": "HTMLView",
      "description": "",
      "description_tooltip": null,
      "layout": "IPY_MODEL_6118222b09184d76b635f47ee801d6f6",
      "placeholder": "​",
      "style": "IPY_MODEL_cef72993a2ce474f85fc96106d788bd4",
      "value": "Generating test split: "
     }
    },
    "f685062de502480c95bcb11f4340e451": {
     "model_module": "@jupyter-widgets/controls",
     "model_module_version": "1.5.0",
     "model_name": "DescriptionStyleModel",
     "state": {
      "_model_module": "@jupyter-widgets/controls",
      "_model_module_version": "1.5.0",
      "_model_name": "DescriptionStyleModel",
      "_view_count": null,
      "_view_module": "@jupyter-widgets/base",
      "_view_module_version": "1.2.0",
      "_view_name": "StyleView",
      "description_width": ""
     }
    }
   }
  }
 },
 "nbformat": 4,
 "nbformat_minor": 1
}
