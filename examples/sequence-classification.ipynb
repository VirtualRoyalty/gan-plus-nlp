{
 "cells": [
  {
   "cell_type": "code",
   "execution_count": 37,
   "id": "62738677",
   "metadata": {},
   "outputs": [
    {
     "data": {
      "application/javascript": "\n            setTimeout(function() {\n                var nbb_cell_id = 37;\n                var nbb_unformatted_code = \"import os\\nimport sys\\nimport yaml\\n\\nimport torch\\nimport warnings\\n\\nwarnings.simplefilter(\\\"ignore\\\")\\nsys.path.append(\\\"..\\\")\\n\\n\\n# os.environ[\\\"CUDA_VISIBLE_DEVICES\\\"] = \\\"7\\\"\\ndevice = torch.device(\\\"cuda\\\")\";\n                var nbb_formatted_code = \"import os\\nimport sys\\nimport yaml\\n\\nimport torch\\nimport warnings\\n\\nwarnings.simplefilter(\\\"ignore\\\")\\nsys.path.append(\\\"..\\\")\\n\\n\\n# os.environ[\\\"CUDA_VISIBLE_DEVICES\\\"] = \\\"7\\\"\\ndevice = torch.device(\\\"cuda\\\")\";\n                var nbb_cells = Jupyter.notebook.get_cells();\n                for (var i = 0; i < nbb_cells.length; ++i) {\n                    if (nbb_cells[i].input_prompt_number == nbb_cell_id) {\n                        if (nbb_cells[i].get_text() == nbb_unformatted_code) {\n                             nbb_cells[i].set_text(nbb_formatted_code);\n                        }\n                        break;\n                    }\n                }\n            }, 500);\n            ",
      "text/plain": [
       "<IPython.core.display.Javascript object>"
      ]
     },
     "metadata": {},
     "output_type": "display_data"
    }
   ],
   "source": [
    "import os\n",
    "import sys\n",
    "import yaml\n",
    "\n",
    "import torch\n",
    "import warnings\n",
    "\n",
    "warnings.simplefilter(\"ignore\")\n",
    "sys.path.append(\"..\")\n",
    "\n",
    "\n",
    "device = torch.device(\"cuda\")"
   ]
  },
  {
   "cell_type": "code",
   "execution_count": 29,
   "id": "88448f2e",
   "metadata": {},
   "outputs": [
    {
     "data": {
      "text/plain": [
       "DatasetDict({\n",
       "    train: Dataset({\n",
       "        features: ['text', 'labels', 'labeled_mask'],\n",
       "        num_rows: 4886\n",
       "    })\n",
       "    test: Dataset({\n",
       "        features: ['text', 'labels', 'labeled_mask'],\n",
       "        num_rows: 7532\n",
       "    })\n",
       "    validation: Dataset({\n",
       "        features: ['text', 'labels', 'labeled_mask'],\n",
       "        num_rows: 2263\n",
       "    })\n",
       "})"
      ]
     },
     "execution_count": 29,
     "metadata": {},
     "output_type": "execute_result"
    },
    {
     "data": {
      "application/javascript": "\n            setTimeout(function() {\n                var nbb_cell_id = 29;\n                var nbb_unformatted_code = \"from datasets import load_dataset\\n\\n# dataset_name = \\\"vmalperovich/20ng_not_enough_data\\\"\\n# dataset = load_dataset(dataset_name)\\n# dataset = dataset.rename_column(\\\"label\\\", \\\"labels\\\")\\ndataset\";\n                var nbb_formatted_code = \"from datasets import load_dataset\\n\\n# dataset_name = \\\"vmalperovich/20ng_not_enough_data\\\"\\n# dataset = load_dataset(dataset_name)\\n# dataset = dataset.rename_column(\\\"label\\\", \\\"labels\\\")\\ndataset\";\n                var nbb_cells = Jupyter.notebook.get_cells();\n                for (var i = 0; i < nbb_cells.length; ++i) {\n                    if (nbb_cells[i].input_prompt_number == nbb_cell_id) {\n                        if (nbb_cells[i].get_text() == nbb_unformatted_code) {\n                             nbb_cells[i].set_text(nbb_formatted_code);\n                        }\n                        break;\n                    }\n                }\n            }, 500);\n            ",
      "text/plain": [
       "<IPython.core.display.Javascript object>"
      ]
     },
     "metadata": {},
     "output_type": "display_data"
    }
   ],
   "source": [
    "from datasets import load_dataset\n",
    "\n",
    "dataset_name = \"vmalperovich/20ng_not_enough_data\"\n",
    "dataset = load_dataset(dataset_name)\n",
    "dataset = dataset.rename_column(\"label\", \"labels\")\n",
    "dataset"
   ]
  },
  {
   "cell_type": "code",
   "execution_count": 35,
   "id": "cd480a92",
   "metadata": {},
   "outputs": [
    {
     "data": {
      "application/javascript": "\n            setTimeout(function() {\n                var nbb_cell_id = 35;\n                var nbb_unformatted_code = \"config = yaml.safe_load(open(\\\"default_config.yml\\\"))\\n\\nconfig[\\\"encoder_name\\\"] = \\\"distilbert-base-uncased\\\"\\nconfig[\\\"label_names\\\"] = dataset[\\\"train\\\"].features[\\\"labels\\\"].names\\nconfig[\\\"num_labels\\\"] = len(config[\\\"label_names\\\"])\\nconfig[\\\"num_train_epochs\\\"] = 3\";\n                var nbb_formatted_code = \"config = yaml.safe_load(open(\\\"default_config.yml\\\"))\\n\\nconfig[\\\"encoder_name\\\"] = \\\"distilbert-base-uncased\\\"\\nconfig[\\\"label_names\\\"] = dataset[\\\"train\\\"].features[\\\"labels\\\"].names\\nconfig[\\\"num_labels\\\"] = len(config[\\\"label_names\\\"])\\nconfig[\\\"num_train_epochs\\\"] = 3\";\n                var nbb_cells = Jupyter.notebook.get_cells();\n                for (var i = 0; i < nbb_cells.length; ++i) {\n                    if (nbb_cells[i].input_prompt_number == nbb_cell_id) {\n                        if (nbb_cells[i].get_text() == nbb_unformatted_code) {\n                             nbb_cells[i].set_text(nbb_formatted_code);\n                        }\n                        break;\n                    }\n                }\n            }, 500);\n            ",
      "text/plain": [
       "<IPython.core.display.Javascript object>"
      ]
     },
     "metadata": {},
     "output_type": "display_data"
    }
   ],
   "source": [
    "config = yaml.safe_load(open(\"default_config.yml\"))\n",
    "\n",
    "config[\"encoder_name\"] = \"distilbert-base-uncased\"\n",
    "config[\"label_names\"] = dataset[\"train\"].features[\"labels\"].names\n",
    "config[\"num_labels\"] = len(config[\"label_names\"])\n",
    "config[\"num_train_epochs\"] = 3"
   ]
  },
  {
   "cell_type": "code",
   "execution_count": 26,
   "id": "6ff74799",
   "metadata": {},
   "outputs": [
    {
     "data": {
      "application/javascript": "\n            setTimeout(function() {\n                var nbb_cell_id = 26;\n                var nbb_unformatted_code = \"# discriminator = model.DiscriminatorForSequenceClassification(**default_config)\\n# tokenizer = discriminator.get_tokenizer()\";\n                var nbb_formatted_code = \"# discriminator = model.DiscriminatorForSequenceClassification(**default_config)\\n# tokenizer = discriminator.get_tokenizer()\";\n                var nbb_cells = Jupyter.notebook.get_cells();\n                for (var i = 0; i < nbb_cells.length; ++i) {\n                    if (nbb_cells[i].input_prompt_number == nbb_cell_id) {\n                        if (nbb_cells[i].get_text() == nbb_unformatted_code) {\n                             nbb_cells[i].set_text(nbb_formatted_code);\n                        }\n                        break;\n                    }\n                }\n            }, 500);\n            ",
      "text/plain": [
       "<IPython.core.display.Javascript object>"
      ]
     },
     "metadata": {},
     "output_type": "display_data"
    }
   ],
   "source": [
    "import model\n",
    "from trainer import gan_trainer as gan_trainer_module\n",
    "\n",
    "\n",
    "discriminator = model.DiscriminatorForSequenceClassification(**config)\n",
    "generator = model.SimpleSequenceGenerator(\n",
    "    input_size=config[\"noise_size\"],\n",
    "    output_size=discriminator.encoder.config.hidden_size,\n",
    ")\n",
    "tokenizer = discriminator.get_tokenizer()"
   ]
  },
  {
   "cell_type": "code",
   "execution_count": 2,
   "id": "d1f8f1d9",
   "metadata": {},
   "outputs": [],
   "source": [
    "from example_utils import prepare_dataloaders\n",
    "\n",
    "\n",
    "loaders = prepare_dataloaders(dataset, tokenizer, config)"
   ]
  },
  {
   "cell_type": "code",
   "execution_count": 20,
   "id": "d447e9b3",
   "metadata": {},
   "outputs": [
    {
     "name": "stdout",
     "output_type": "stream",
     "text": [
      "Trainable layers 102\n"
     ]
    },
    {
     "data": {
      "application/javascript": "\n            setTimeout(function() {\n                var nbb_cell_id = 20;\n                var nbb_unformatted_code = \"\\ndefault_config[\\\"num_train_examples\\\"] = len(loaders[\\\"train\\\"].dataset)\\n\\n\\ngenerator = model.SimpleSequenceGenerator(\\n    input_size=default_config[\\\"noise_size\\\"],\\n    output_size=discriminator.encoder.config.hidden_size,\\n)\\ngan_trainer = gan_trainer_module.GANTrainerSequenceClassification(\\n    config=default_config,\\n    discriminator=discriminator,\\n    generator=generator,\\n    train_dataloader=loaders[\\\"train\\\"],\\n    valid_dataloader=loaders[\\\"valid\\\"],\\n    device=device,\\n    save_path=default_config[\\\"save_path\\\"],\\n)\";\n                var nbb_formatted_code = \"default_config[\\\"num_train_examples\\\"] = len(loaders[\\\"train\\\"].dataset)\\n\\n\\ngenerator = model.SimpleSequenceGenerator(\\n    input_size=default_config[\\\"noise_size\\\"],\\n    output_size=discriminator.encoder.config.hidden_size,\\n)\\ngan_trainer = gan_trainer_module.GANTrainerSequenceClassification(\\n    config=default_config,\\n    discriminator=discriminator,\\n    generator=generator,\\n    train_dataloader=loaders[\\\"train\\\"],\\n    valid_dataloader=loaders[\\\"valid\\\"],\\n    device=device,\\n    save_path=default_config[\\\"save_path\\\"],\\n)\";\n                var nbb_cells = Jupyter.notebook.get_cells();\n                for (var i = 0; i < nbb_cells.length; ++i) {\n                    if (nbb_cells[i].input_prompt_number == nbb_cell_id) {\n                        if (nbb_cells[i].get_text() == nbb_unformatted_code) {\n                             nbb_cells[i].set_text(nbb_formatted_code);\n                        }\n                        break;\n                    }\n                }\n            }, 500);\n            ",
      "text/plain": [
       "<IPython.core.display.Javascript object>"
      ]
     },
     "metadata": {},
     "output_type": "display_data"
    }
   ],
   "source": [
    "gan_trainer = gan_trainer_module.GANTrainerSequenceClassification(\n",
    "    config=config,\n",
    "    discriminator=discriminator,\n",
    "    generator=generator,\n",
    "    train_dataloader=loaders[\"train\"],\n",
    "    valid_dataloader=loaders[\"valid\"],\n",
    "    device=device,\n",
    "    save_path=config[\"save_path\"],\n",
    ")"
   ]
  },
  {
   "cell_type": "code",
   "execution_count": 21,
   "id": "80919384",
   "metadata": {
    "scrolled": false
   },
   "outputs": [
    {
     "name": "stdout",
     "output_type": "stream",
     "text": [
      "======== Epoch 1 / 3 ========\n",
      "\tTrain loss discriminator: 3.154\n",
      "\tTrain loss generator: 0.609\n",
      "Best model saved!\n",
      "\tTest loss discriminator: 0.995\n",
      "\tTest accuracy discriminator: 0.705\n",
      "\tTest f1 discriminator: 0.681\n",
      "======== Epoch 2 / 3 ========\n",
      "\tTrain loss discriminator: 1.193\n",
      "\tTrain loss generator: 0.809\n",
      "Best model saved!\n",
      "\tTest loss discriminator: 0.854\n",
      "\tTest accuracy discriminator: 0.766\n",
      "\tTest f1 discriminator: 0.755\n",
      "======== Epoch 3 / 3 ========\n",
      "\tTrain loss discriminator: 0.897\n",
      "\tTrain loss generator: 0.796\n",
      "Best model saved!\n",
      "\tTest loss discriminator: 0.938\n",
      "\tTest accuracy discriminator: 0.766\n",
      "\tTest f1 discriminator: 0.759\n"
     ]
    },
    {
     "data": {
      "application/javascript": "\n            setTimeout(function() {\n                var nbb_cell_id = 21;\n                var nbb_unformatted_code = \"for epoch_i in range(default_config[\\\"num_train_epochs\\\"]):\\n    print(\\n        f\\\"======== Epoch {epoch_i + 1} / {default_config['num_train_epochs']} ========\\\"\\n    )\\n    train_info = gan_trainer.train_epoch(log_env=None)\\n    result = gan_trainer.validation(log_env=None)\";\n                var nbb_formatted_code = \"for epoch_i in range(default_config[\\\"num_train_epochs\\\"]):\\n    print(\\n        f\\\"======== Epoch {epoch_i + 1} / {default_config['num_train_epochs']} ========\\\"\\n    )\\n    train_info = gan_trainer.train_epoch(log_env=None)\\n    result = gan_trainer.validation(log_env=None)\";\n                var nbb_cells = Jupyter.notebook.get_cells();\n                for (var i = 0; i < nbb_cells.length; ++i) {\n                    if (nbb_cells[i].input_prompt_number == nbb_cell_id) {\n                        if (nbb_cells[i].get_text() == nbb_unformatted_code) {\n                             nbb_cells[i].set_text(nbb_formatted_code);\n                        }\n                        break;\n                    }\n                }\n            }, 500);\n            ",
      "text/plain": [
       "<IPython.core.display.Javascript object>"
      ]
     },
     "metadata": {},
     "output_type": "display_data"
    }
   ],
   "source": [
    "for epoch_i in range(config[\"num_train_epochs\"]):\n",
    "    print(\n",
    "        f\"======== Epoch {epoch_i + 1} / {config['num_train_epochs']} ========\"\n",
    "    )\n",
    "    train_info = gan_trainer.train_epoch(log_env=None)\n",
    "    result = gan_trainer.validation(log_env=None)"
   ]
  },
  {
   "cell_type": "code",
   "execution_count": 25,
   "id": "88c3d4d8",
   "metadata": {},
   "outputs": [
    {
     "data": {
      "text/plain": [
       "0.7023236526761144"
      ]
     },
     "execution_count": 25,
     "metadata": {},
     "output_type": "execute_result"
    },
    {
     "data": {
      "application/javascript": "\n            setTimeout(function() {\n                var nbb_cell_id = 25;\n                var nbb_unformatted_code = \"# discriminator.load_state_dict(torch.load(default_config[\\\"save_path\\\"]))\\n# predict_info = gan_trainer.predict(\\n#     discriminator, loaders[\\\"test\\\"], label_names=default_config[\\\"label_names\\\"]\\n# )\\npredict_info[\\\"overall_f1\\\"]\";\n                var nbb_formatted_code = \"# discriminator.load_state_dict(torch.load(default_config[\\\"save_path\\\"]))\\n# predict_info = gan_trainer.predict(\\n#     discriminator, loaders[\\\"test\\\"], label_names=default_config[\\\"label_names\\\"]\\n# )\\npredict_info[\\\"overall_f1\\\"]\";\n                var nbb_cells = Jupyter.notebook.get_cells();\n                for (var i = 0; i < nbb_cells.length; ++i) {\n                    if (nbb_cells[i].input_prompt_number == nbb_cell_id) {\n                        if (nbb_cells[i].get_text() == nbb_unformatted_code) {\n                             nbb_cells[i].set_text(nbb_formatted_code);\n                        }\n                        break;\n                    }\n                }\n            }, 500);\n            ",
      "text/plain": [
       "<IPython.core.display.Javascript object>"
      ]
     },
     "metadata": {},
     "output_type": "display_data"
    }
   ],
   "source": [
    "discriminator.load_state_dict(torch.load(config[\"save_path\"]))\n",
    "predict_info = gan_trainer.predict(\n",
    "    discriminator, loaders[\"test\"], label_names=config[\"label_names\"]\n",
    ")\n",
    "predict_info[\"overall_f1\"]"
   ]
  }
 ],
 "metadata": {
  "kernelspec": {
   "display_name": "Python 3.10.0 ('base')",
   "language": "python",
   "name": "python3"
  },
  "language_info": {
   "codemirror_mode": {
    "name": "ipython",
    "version": 3
   },
   "file_extension": ".py",
   "mimetype": "text/x-python",
   "name": "python",
   "nbconvert_exporter": "python",
   "pygments_lexer": "ipython3",
   "version": "3.10.0"
  },
  "toc": {
   "base_numbering": 1,
   "nav_menu": {},
   "number_sections": true,
   "sideBar": true,
   "skip_h1_title": false,
   "title_cell": "Table of Contents",
   "title_sidebar": "Contents",
   "toc_cell": false,
   "toc_position": {},
   "toc_section_display": true,
   "toc_window_display": false
  },
  "vscode": {
   "interpreter": {
    "hash": "7d48bf750b3f2cec68932cf9832089b49025b518ec4a810c542d6b0962c9ef8d"
   }
  }
 },
 "nbformat": 4,
 "nbformat_minor": 5
}
